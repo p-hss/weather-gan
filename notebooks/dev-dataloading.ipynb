{
 "cells": [
  {
   "cell_type": "markdown",
   "id": "d0200d56-e18a-479e-9d17-7b78808f26ea",
   "metadata": {},
   "source": [
    "# Dataloader\n",
    "TODO:\n",
    " - multiple time steps"
   ]
  },
  {
   "cell_type": "code",
   "execution_count": 1,
   "id": "4869686b-4172-4a9f-b8fc-37c9351a2986",
   "metadata": {},
   "outputs": [
    {
     "name": "stdout",
     "output_type": "stream",
     "text": [
      "/home/ftei-dsw/projects/weather-gan\n"
     ]
    }
   ],
   "source": [
    "%load_ext autoreload\n",
    "%autoreload 2\n",
    "%cd /home/ftei-dsw/projects/weather-gan"
   ]
  },
  {
   "cell_type": "code",
   "execution_count": 2,
   "id": "dcc53f05-f03c-4f8a-b131-1772558cc130",
   "metadata": {},
   "outputs": [],
   "source": [
    "from src.data import DataModule\n",
    "import matplotlib.pyplot as plt\n",
    "import numpy as np\n",
    "from src.configuration import Config"
   ]
  },
  {
   "cell_type": "code",
   "execution_count": 3,
   "id": "07a2b317-69c2-41e3-9618-dd498d14cf4f",
   "metadata": {},
   "outputs": [],
   "source": [
    "data = DataModule(Config())\n",
    "data.setup('fit')\n",
    "train_loader = data.train_dataloader()\n",
    "batch = next(iter(train_loader))"
   ]
  },
  {
   "cell_type": "code",
   "execution_count": 9,
   "id": "2fb4bc3b-d92a-4869-9a08-87542e95ea7d",
   "metadata": {},
   "outputs": [
    {
     "name": "stdout",
     "output_type": "stream",
     "text": [
      "input shape:  torch.Size([32, 2, 72, 72]), type: torch.cuda.FloatTensor, device: cuda:0\n",
      "target shape: torch.Size([32, 2, 72, 72]), type: torch.cuda.FloatTensor, device: cuda:0\n"
     ]
    }
   ],
   "source": [
    "print(f\"input shape:  {batch[0]['input'].shape}, type: {batch[0]['input'].type()}, device: {batch[0]['input'].device}\")\n",
    "print(f\"target shape: {batch[0]['target'].shape}, type: {batch[0]['target'].type()}, device: {batch[0]['target'].device}\")"
   ]
  },
  {
   "cell_type": "code",
   "execution_count": 17,
   "id": "f34b08ac-b498-4b14-bab5-fd630eba258a",
   "metadata": {},
   "outputs": [
    {
     "name": "stdout",
     "output_type": "stream",
     "text": [
      "epoch loading time:  47.5 seconds\n"
     ]
    }
   ],
   "source": [
    "import time\n",
    "start_time = time.time()\n",
    "for i, batch in enumerate(train_loader):\n",
    "    input, target = batch[0]['input'], batch[0]['target']\n",
    "print(f\"epoch loading time: {(time.time() - start_time): 3.1f} seconds\")"
   ]
  },
  {
   "cell_type": "code",
   "execution_count": null,
   "id": "ee5801a0-adf7-4d17-bbef-3174f4a12442",
   "metadata": {},
   "outputs": [],
   "source": [
    "'''\n",
    "DALI original loading time ~47.5\n",
    "\n",
    "'''"
   ]
  }
 ],
 "metadata": {
  "kernelspec": {
   "display_name": "Python 3 (ipykernel)",
   "language": "python",
   "name": "python3"
  },
  "language_info": {
   "codemirror_mode": {
    "name": "ipython",
    "version": 3
   },
   "file_extension": ".py",
   "mimetype": "text/x-python",
   "name": "python",
   "nbconvert_exporter": "python",
   "pygments_lexer": "ipython3",
   "version": "3.9.10"
  }
 },
 "nbformat": 4,
 "nbformat_minor": 5
}
