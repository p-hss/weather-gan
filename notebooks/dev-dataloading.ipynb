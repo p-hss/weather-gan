{
 "cells": [
  {
   "cell_type": "code",
   "execution_count": 1,
   "id": "4869686b-4172-4a9f-b8fc-37c9351a2986",
   "metadata": {},
   "outputs": [
    {
     "name": "stdout",
     "output_type": "stream",
     "text": [
      "/home/ftei-dsw/projects/weather-gan\n"
     ]
    }
   ],
   "source": [
    "%load_ext autoreload\n",
    "%autoreload 2\n",
    "%cd /home/ftei-dsw/projects/weather-gan"
   ]
  },
  {
   "cell_type": "code",
   "execution_count": 2,
   "id": "dcc53f05-f03c-4f8a-b131-1772558cc130",
   "metadata": {},
   "outputs": [],
   "source": [
    "from src.data import DataModule"
   ]
  },
  {
   "cell_type": "code",
   "execution_count": 17,
   "id": "07a2b317-69c2-41e3-9618-dd498d14cf4f",
   "metadata": {},
   "outputs": [],
   "source": [
    "dm = DataModule(train_batch_size=4,\n",
    "                test_batch_size=64)\n",
    "dm.setup('fit')"
   ]
  },
  {
   "cell_type": "code",
   "execution_count": 12,
   "id": "1c1ff4b4-8a34-4833-b961-b0f8f0bd9c06",
   "metadata": {},
   "outputs": [],
   "source": [
    "train_loader = dm.train_dataloader()"
   ]
  },
  {
   "cell_type": "code",
   "execution_count": 13,
   "id": "55acca49-1f21-4fa0-b9ba-9bde39df96ee",
   "metadata": {},
   "outputs": [],
   "source": [
    "batch = next(iter(train_loader))"
   ]
  },
  {
   "cell_type": "code",
   "execution_count": 16,
   "id": "daf7cebf-5d76-4a8b-8d6c-9c912fd75460",
   "metadata": {},
   "outputs": [
    {
     "data": {
      "text/plain": [
       "(torch.Size([4, 174, 310, 2]), torch.Size([4, 174, 310, 2]))"
      ]
     },
     "execution_count": 16,
     "metadata": {},
     "output_type": "execute_result"
    }
   ],
   "source": [
    "batch[0]['input'].shape, batch[0]['target'].shape"
   ]
  },
  {
   "cell_type": "code",
   "execution_count": null,
   "id": "89102e19-5d11-4eda-999f-2f65354e9d0b",
   "metadata": {},
   "outputs": [],
   "source": []
  }
 ],
 "metadata": {
  "kernelspec": {
   "display_name": "Python 3",
   "language": "python",
   "name": "python3"
  },
  "language_info": {
   "codemirror_mode": {
    "name": "ipython",
    "version": 3
   },
   "file_extension": ".py",
   "mimetype": "text/x-python",
   "name": "python",
   "nbconvert_exporter": "python",
   "pygments_lexer": "ipython3",
   "version": "3.9.7"
  }
 },
 "nbformat": 4,
 "nbformat_minor": 5
}
