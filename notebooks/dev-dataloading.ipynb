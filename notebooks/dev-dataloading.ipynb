{
 "cells": [
  {
   "cell_type": "markdown",
   "id": "d0200d56-e18a-479e-9d17-7b78808f26ea",
   "metadata": {},
   "source": [
    "# Dataloader\n",
    "TODO:\n",
    " - multiple time steps"
   ]
  },
  {
   "cell_type": "code",
   "execution_count": 2,
   "id": "4869686b-4172-4a9f-b8fc-37c9351a2986",
   "metadata": {},
   "outputs": [
    {
     "name": "stdout",
     "output_type": "stream",
     "text": [
      "/home/ftei-dsw/projects/weather-gan\n"
     ]
    }
   ],
   "source": [
    "%load_ext autoreload\n",
    "%autoreload 2\n",
    "%cd /home/ftei-dsw/projects/weather-gan"
   ]
  },
  {
   "cell_type": "code",
   "execution_count": 3,
   "id": "dcc53f05-f03c-4f8a-b131-1772558cc130",
   "metadata": {},
   "outputs": [],
   "source": [
    "from src.data import DataModule\n",
    "import matplotlib.pyplot as plt\n",
    "import numpy as np\n",
    "from src.configuration import Config"
   ]
  },
  {
   "cell_type": "code",
   "execution_count": 1,
   "id": "07a2b317-69c2-41e3-9618-dd498d14cf4f",
   "metadata": {
    "tags": []
   },
   "outputs": [
    {
     "ename": "NameError",
     "evalue": "name 'DataModule' is not defined",
     "output_type": "error",
     "traceback": [
      "\u001b[0;31m---------------------------------------------------------------------------\u001b[0m",
      "\u001b[0;31mNameError\u001b[0m                                 Traceback (most recent call last)",
      "Input \u001b[0;32mIn [1]\u001b[0m, in \u001b[0;36m<cell line: 1>\u001b[0;34m()\u001b[0m\n\u001b[0;32m----> 1\u001b[0m data \u001b[38;5;241m=\u001b[39m \u001b[43mDataModule\u001b[49m(Config())\n\u001b[1;32m      2\u001b[0m data\u001b[38;5;241m.\u001b[39msetup(\u001b[38;5;124m'\u001b[39m\u001b[38;5;124mfit\u001b[39m\u001b[38;5;124m'\u001b[39m)\n\u001b[1;32m      3\u001b[0m loader \u001b[38;5;241m=\u001b[39m data\u001b[38;5;241m.\u001b[39mtrain_dataloader()\n",
      "\u001b[0;31mNameError\u001b[0m: name 'DataModule' is not defined"
     ]
    }
   ],
   "source": [
    "data = DataModule(Config())\n",
    "data.setup('fit')\n",
    "loader = data.train_dataloader()\n",
    "batch = next(iter(loader))"
   ]
  },
  {
   "cell_type": "code",
   "execution_count": 34,
   "id": "2fb4bc3b-d92a-4869-9a08-87542e95ea7d",
   "metadata": {},
   "outputs": [
    {
     "name": "stdout",
     "output_type": "stream",
     "text": [
      "input shape:  torch.Size([64, 2, 72, 72]), type: torch.FloatTensor, device: cpu\n",
      "target shape: torch.Size([64, 2, 72, 72]), type: torch.FloatTensor, device: cpu\n"
     ]
    }
   ],
   "source": [
    "print(f\"input shape:  {batch[0]['input'].shape}, type: {batch[0]['input'].type()}, device: {batch[0]['input'].device}\")\n",
    "print(f\"target shape: {batch[0]['target'].shape}, type: {batch[0]['target'].type()}, device: {batch[0]['target'].device}\")"
   ]
  },
  {
   "cell_type": "code",
   "execution_count": 75,
   "id": "f34b08ac-b498-4b14-bab5-fd630eba258a",
   "metadata": {
    "scrolled": true,
    "tags": []
   },
   "outputs": [
    {
     "name": "stdout",
     "output_type": "stream",
     "text": [
      "epoch loading time:  41.0 seconds\n"
     ]
    }
   ],
   "source": [
    "import time\n",
    "start_time = time.time()\n",
    "for i, batch in enumerate(loader):\n",
    "    input, target = batch[0]['input'], batch[0]['target']\n",
    "print(f\"epoch loading time: {(time.time() - start_time): 3.1f} seconds\")"
   ]
  },
  {
   "cell_type": "code",
   "execution_count": 78,
   "id": "2f1375eb-f371-40c6-b1be-7d971b3c52a2",
   "metadata": {},
   "outputs": [
    {
     "data": {
      "text/plain": [
       "353"
      ]
     },
     "execution_count": 78,
     "metadata": {},
     "output_type": "execute_result"
    }
   ],
   "source": [
    "len(loader)"
   ]
  },
  {
   "cell_type": "code",
   "execution_count": null,
   "id": "ee5801a0-adf7-4d17-bbef-3174f4a12442",
   "metadata": {},
   "outputs": [],
   "source": [
    "'''\n",
    "DALI original loading time ~47.5s\n",
    "\n",
    "'''"
   ]
  },
  {
   "cell_type": "code",
   "execution_count": 3,
   "id": "cbd454cd-0084-4142-a0e2-5786b37e2387",
   "metadata": {},
   "outputs": [],
   "source": [
    "data = DataModule(Config())\n",
    "input_dataset = data.get_dataset('train', data.input_fname, data.input_variables)\n",
    "target_dataset = data.get_dataset('train', data.target_fname, data.target_variables)"
   ]
  },
  {
   "cell_type": "code",
   "execution_count": 28,
   "id": "0c191f69-ffc1-47ab-8e69-d6dc460033cb",
   "metadata": {},
   "outputs": [],
   "source": [
    "from src.data import ExternalInputCallable, DaliLoader\n",
    "\n",
    "input_source = ExternalInputCallable(input_dataset,\n",
    "                                     data.input_variables,\n",
    "                                     data.train_batch_size,\n",
    "                                     int(len(target_dataset.time)),\n",
    "                                     get_indices(int(len(target_dataset.time))),\n",
    "                                     time_axis=target_dataset.time\n",
    "                                     )\n",
    "\n",
    "target_source = ExternalInputCallable(target_dataset,\n",
    "                                      data.target_variables,\n",
    "                                      data.train_batch_size,\n",
    "                                      int(len(target_dataset.time)),\n",
    "                                      get_indices(int(len(target_dataset.time))),\n",
    "                                      )"
   ]
  },
  {
   "cell_type": "code",
   "execution_count": null,
   "id": "321a5699-ec2b-483f-a7b3-ae6cd45fd23c",
   "metadata": {},
   "outputs": [],
   "source": [
    "from "
   ]
  },
  {
   "cell_type": "code",
   "execution_count": 26,
   "id": "ff74ad54-8916-4166-9276-fef6076ffe35",
   "metadata": {},
   "outputs": [],
   "source": [
    "def get_indices( num_samples, shuffle=True):\n",
    "    import random\n",
    "    if shuffle:\n",
    "        indices = random.sample(range(num_samples), num_samples)\n",
    "    else:\n",
    "        indices = list(np.arange(num_samples))\n",
    "    return indices"
   ]
  },
  {
   "cell_type": "code",
   "execution_count": 9,
   "id": "c353e7cc-6a09-4d7a-ad62-765df120d47c",
   "metadata": {},
   "outputs": [],
   "source": [
    "from src.dataloader import DaskDataset\n",
    "from torch.utils.data import DataLoader\n",
    "\n",
    "data = DataModule(Config())\n",
    "input_dataset = data.get_dataset('train', data.input_fname, data.input_variables)\n",
    "target_dataset = data.get_dataset('train', data.target_fname, data.target_variables)"
   ]
  },
  {
   "cell_type": "code",
   "execution_count": 10,
   "id": "b86e9ebe-6d3a-43a9-99c9-ce9bc126cf40",
   "metadata": {},
   "outputs": [],
   "source": [
    "dataset = DaskDataset('train',\n",
    "                      target_dataset,\n",
    "                      input_dataset,\n",
    "                      ['precipitation', 'temperature'],\n",
    "                      ['precipitation', 'temperature'] )"
   ]
  },
  {
   "cell_type": "code",
   "execution_count": 34,
   "id": "f9fa3342-c5d4-420b-b26b-1403df7e8d4d",
   "metadata": {},
   "outputs": [],
   "source": [
    "dataloader = DataLoader(dataset,\n",
    "                        batch_size=32,\n",
    "                        shuffle=True,\n",
    "                        drop_last=True, \n",
    "                        prefetch_factor=2,\n",
    "                        num_workers=4)"
   ]
  },
  {
   "cell_type": "code",
   "execution_count": 35,
   "id": "1c3b5ffd-d32e-4131-9313-eaf507d4ef28",
   "metadata": {},
   "outputs": [
    {
     "data": {
      "text/plain": [
       "tensor([1., 1., 1., 1., 1., 1., 1., 1., 1., 1., 1., 1.], device='cuda:0')"
      ]
     },
     "execution_count": 35,
     "metadata": {},
     "output_type": "execute_result"
    }
   ],
   "source": [
    "import torch\n",
    "torch.cuda.is_available()\n",
    "torch.ones(12).to('cuda')"
   ]
  },
  {
   "cell_type": "code",
   "execution_count": 36,
   "id": "a6708a24-d2c7-44ca-9301-8e39a37032e5",
   "metadata": {},
   "outputs": [
    {
     "name": "stdout",
     "output_type": "stream",
     "text": [
      "epoch loading time:  14.2 seconds\n"
     ]
    }
   ],
   "source": [
    "import time\n",
    "start_time = time.time()\n",
    "for i, batch in enumerate(dataloader):\n",
    "    input, target = batch[0], batch[1]\n",
    "print(f\"epoch loading time: {(time.time() - start_time): 3.1f} seconds\")"
   ]
  },
  {
   "cell_type": "code",
   "execution_count": 67,
   "id": "bdfb07d4-031b-4003-9e34-2dcfcc5fa435",
   "metadata": {},
   "outputs": [
    {
     "data": {
      "text/plain": [
       "(tensor(-0.6749), tensor(0.8714))"
      ]
     },
     "execution_count": 67,
     "metadata": {},
     "output_type": "execute_result"
    }
   ],
   "source": [
    "batch[0][:,1].min(), batch[0][:,1].max()"
   ]
  },
  {
   "cell_type": "code",
   "execution_count": 60,
   "id": "7228059e-006a-4613-a5b0-ab3bb1a78bc7",
   "metadata": {},
   "outputs": [
    {
     "data": {
      "text/plain": [
       "(tensor(213.0773), tensor(311.7216))"
      ]
     },
     "execution_count": 60,
     "metadata": {},
     "output_type": "execute_result"
    }
   ],
   "source": [
    "batch[1][:,1].min(), batch[1][:,1].max()"
   ]
  },
  {
   "cell_type": "code",
   "execution_count": 61,
   "id": "f7c891e9-4ddf-43c7-b7a4-9c731277469f",
   "metadata": {},
   "outputs": [
    {
     "data": {
      "text/plain": [
       "(tensor(0.), tensor(0.0016))"
      ]
     },
     "execution_count": 61,
     "metadata": {},
     "output_type": "execute_result"
    }
   ],
   "source": [
    "batch[1][:,0].min(), batch[1][:,0].max()"
   ]
  },
  {
   "cell_type": "code",
   "execution_count": 79,
   "id": "a118d0b3-870c-4834-8710-8e3fa76fb7c9",
   "metadata": {},
   "outputs": [
    {
     "data": {
      "text/plain": [
       "354"
      ]
     },
     "execution_count": 79,
     "metadata": {},
     "output_type": "execute_result"
    }
   ],
   "source": [
    "len(dataloader)"
   ]
  },
  {
   "cell_type": "code",
   "execution_count": 4,
   "id": "25a3a9d0-8344-4643-98de-49cf4da537e7",
   "metadata": {},
   "outputs": [],
   "source": [
    "from src.dataloader import PyTorchDataModule"
   ]
  },
  {
   "cell_type": "code",
   "execution_count": 5,
   "id": "e0e51930-7df4-4103-896e-22a7ad63943f",
   "metadata": {},
   "outputs": [],
   "source": [
    "data = PyTorchDataModule(Config())"
   ]
  },
  {
   "cell_type": "code",
   "execution_count": 6,
   "id": "f5c27bfa-5cc5-4d88-996a-bc332eb6f547",
   "metadata": {},
   "outputs": [],
   "source": [
    "data.setup('fit')\n",
    "train_loader = data.train_dataloader()\n",
    "valid_loader = data.valid_dataloader()"
   ]
  },
  {
   "cell_type": "code",
   "execution_count": 7,
   "id": "04081a96-6c48-4021-ac67-c74d310d74b7",
   "metadata": {},
   "outputs": [],
   "source": [
    "\n",
    "batch = next(iter(train_loader))\n",
    "batch = next(iter(valid_loader))"
   ]
  },
  {
   "cell_type": "code",
   "execution_count": 9,
   "id": "4dd639c1-b9e3-4f68-8b22-c2b43231748d",
   "metadata": {},
   "outputs": [
    {
     "data": {
      "text/plain": [
       "torch.Size([64, 2, 72, 144])"
      ]
     },
     "execution_count": 9,
     "metadata": {},
     "output_type": "execute_result"
    }
   ],
   "source": [
    "batch[0].shape\n"
   ]
  },
  {
   "cell_type": "code",
   "execution_count": null,
   "id": "9ec73e07-4a70-44d3-a198-31cfdd5c832b",
   "metadata": {},
   "outputs": [],
   "source": []
  }
 ],
 "metadata": {
  "kernelspec": {
   "display_name": "Python 3 (ipykernel)",
   "language": "python",
   "name": "python3"
  },
  "language_info": {
   "codemirror_mode": {
    "name": "ipython",
    "version": 3
   },
   "file_extension": ".py",
   "mimetype": "text/x-python",
   "name": "python",
   "nbconvert_exporter": "python",
   "pygments_lexer": "ipython3",
   "version": "3.9.10"
  }
 },
 "nbformat": 4,
 "nbformat_minor": 5
}
