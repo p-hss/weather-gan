{
 "cells": [
  {
   "cell_type": "code",
   "execution_count": 1,
   "id": "141e4eea-ea98-45c9-a996-0c725f7acbbf",
   "metadata": {},
   "outputs": [
    {
     "name": "stdout",
     "output_type": "stream",
     "text": [
      "/home/ftei-dsw/projects/weather-gan\n"
     ]
    }
   ],
   "source": [
    "%load_ext autoreload\n",
    "%autoreload 2\n",
    "%cd /home/ftei-dsw/projects/weather-gan"
   ]
  },
  {
   "cell_type": "code",
   "execution_count": 8,
   "id": "263437ee-55c2-4642-b64d-863053ca21fc",
   "metadata": {},
   "outputs": [],
   "source": [
    "import torch\n",
    "from pytorch_lightning.trainer import Trainer\n",
    "from pytorch_lightning.loggers import TensorBoardLogger\n",
    "\n",
    "from src.model import Generator, Discriminator\n",
    "from src.trainer import WeatherGenerator\n",
    "from src.data import DataModule\n",
    "from src.utils import get_version\n",
    "from src.configuration import Config\n",
    "from src.trainer import training"
   ]
  },
  {
   "cell_type": "markdown",
   "id": "199f7216-0b2e-46db-b97c-02bd886dad32",
   "metadata": {
    "tags": []
   },
   "source": [
    "# start training"
   ]
  },
  {
   "cell_type": "code",
   "execution_count": 9,
   "id": "422c68b8-122a-42f4-8ed7-a61b2768eb35",
   "metadata": {},
   "outputs": [
    {
     "data": {
      "text/plain": [
       "Config(tensorboard_path='/home/ftei-dsw/data/weather-gan/tensorboard/', checkpoint_path='/home/ftei-dsw/data/weather-gan/checkpoints/', config_path='/home/ftei-dsw/data/weather-gan/config-files/', results_path='/home/ftei-dsw/data/weather-gan/results/', input_fname='/home/ftei-dsw/data/weather-gan/datasets/monthly_gfdl_historical.nc', target_fname='/home/ftei-dsw/data/weather-gan/datasets/daily_gfdl_historical.nc', train_start=1950, train_end=1986, valid_start=2000, valid_end=2014, test_start=2000, test_end=2014, model_name='weather-gan', num_variables=2, epochs=10, train_batch_size=32, test_batch_size=64, lr=0.0002, beta1=0.5, beta2=0.999, latent_dim=8, apply_dropout=False, generator_channels=64, generator_num_resblocks=5, generator_num_downsampling=2, discriminator_channels=32)"
      ]
     },
     "execution_count": 9,
     "metadata": {},
     "output_type": "execute_result"
    }
   ],
   "source": [
    "Config()"
   ]
  },
  {
   "cell_type": "code",
   "execution_count": null,
   "id": "6fe56a45-e0a6-4dda-84b2-755cb23c3859",
   "metadata": {},
   "outputs": [],
   "source": [
    "training(Config(), enable_profiler=True)"
   ]
  },
  {
   "cell_type": "markdown",
   "id": "c9ddc55e-0b5a-4966-8c70-5014960f958a",
   "metadata": {
    "tags": []
   },
   "source": [
    "# Dev"
   ]
  },
  {
   "cell_type": "code",
   "execution_count": null,
   "id": "f05ea696-d409-4f64-b5bc-65cb4bc5190f",
   "metadata": {},
   "outputs": [],
   "source": []
  }
 ],
 "metadata": {
  "kernelspec": {
   "display_name": "Python 3 (ipykernel)",
   "language": "python",
   "name": "python3"
  },
  "language_info": {
   "codemirror_mode": {
    "name": "ipython",
    "version": 3
   },
   "file_extension": ".py",
   "mimetype": "text/x-python",
   "name": "python",
   "nbconvert_exporter": "python",
   "pygments_lexer": "ipython3",
   "version": "3.9.10"
  }
 },
 "nbformat": 4,
 "nbformat_minor": 5
}
