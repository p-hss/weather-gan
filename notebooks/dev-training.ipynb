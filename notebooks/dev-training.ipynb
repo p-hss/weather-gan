{
 "cells": [
  {
   "cell_type": "code",
   "execution_count": 1,
   "id": "141e4eea-ea98-45c9-a996-0c725f7acbbf",
   "metadata": {},
   "outputs": [
    {
     "name": "stdout",
     "output_type": "stream",
     "text": [
      "/home/ftei-dsw/projects/weather-gan\n"
     ]
    }
   ],
   "source": [
    "%load_ext autoreload\n",
    "%autoreload 2\n",
    "from pathlib import Path\n",
    "\n",
    "home = str(Path.home())\n",
    "if home == '/home/hess': \n",
    "    %cd /home/hess/projects/weather-gan\n",
    "\n",
    "if home == '/home/ftei-dsw': \n",
    "    %cd /home/ftei-dsw/projects/weather-gan"
   ]
  },
  {
   "cell_type": "code",
   "execution_count": 2,
   "id": "263437ee-55c2-4642-b64d-863053ca21fc",
   "metadata": {},
   "outputs": [],
   "source": [
    "import torch\n",
    "from pytorch_lightning.trainer import Trainer\n",
    "from pytorch_lightning.loggers import TensorBoardLogger\n",
    "\n",
    "from src.model import Generator, Discriminator\n",
    "from src.trainer import WeatherGenerator\n",
    "from src.data import DataModule\n",
    "from src.utils import get_version, show_config\n",
    "from src.configuration import Config\n",
    "from src.trainer import training\n"
   ]
  },
  {
   "cell_type": "code",
   "execution_count": 3,
   "id": "a14635fb-bf08-4822-a051-5fdc7c893e9f",
   "metadata": {},
   "outputs": [
    {
     "data": {
      "text/plain": [
       "'Checkpoint path: /home/ftei-dsw/data/weather-gan/checkpoints/weather-gan/16h_29m_18s/1bfcabc2-b67f-11ec-883b-845cf3c98452'"
      ]
     },
     "execution_count": 3,
     "metadata": {},
     "output_type": "execute_result"
    }
   ],
   "source": [
    "'Checkpoint path: /home/ftei-dsw/data/weather-gan/checkpoints/weather-gan/16h_29m_18s/1bfcabc2-b67f-11ec-883b-845cf3c98452'"
   ]
  },
  {
   "cell_type": "code",
   "execution_count": 17,
   "id": "819318e8-01ca-4413-b493-e716760bdfea",
   "metadata": {},
   "outputs": [
    {
     "data": {
      "text/plain": [
       "12"
      ]
     },
     "execution_count": 17,
     "metadata": {},
     "output_type": "execute_result"
    }
   ],
   "source": [
    "import multiprocessing\n",
    "multiprocessing.cpu_count()"
   ]
  },
  {
   "cell_type": "markdown",
   "id": "199f7216-0b2e-46db-b97c-02bd886dad32",
   "metadata": {
    "tags": []
   },
   "source": [
    "# start training"
   ]
  },
  {
   "cell_type": "code",
   "execution_count": 18,
   "id": "6fe56a45-e0a6-4dda-84b2-755cb23c3859",
   "metadata": {},
   "outputs": [
    {
     "name": "stderr",
     "output_type": "stream",
     "text": [
      "ModelCheckpoint(save_last=True, save_top_k=-1, monitor=None) will duplicate the last checkpoint saved.\n"
     ]
    },
    {
     "name": "stdout",
     "output_type": "stream",
     "text": [
      "Running model: weather-gan/2022_04_27/17_37_46/fcc19134-c63f-11ec-ae2b-845cf3c98452\n",
      "Checkpoint path: /home/ftei-dsw/data/weather-gan/checkpoints//weather-gan/2022_04_27/17_37_46/fcc19134-c63f-11ec-ae2b-845cf3c98452\n",
      "################ configuration ################\n",
      "-------------------- paths --------------------\n",
      "tensorbard: /home/ftei-dsw/data/weather-gan/tensorboard/\n",
      "checkpoint: /home/ftei-dsw/data/weather-gan/checkpoints/\n",
      "config: /home/ftei-dsw/data/weather-gan/config-files/\n",
      "results: /home/ftei-dsw/data/weather-gan/results/\n",
      "input: /home/ftei-dsw/data/weather-gan/datasets/monthly_gfdl_historical.nc\n",
      "target: /home/ftei-dsw/data/weather-gan/datasets/daily_gfdl_historical.nc\n",
      "-------------------- splits  -------------------\n",
      "training:   1950 - 2000\n",
      "validation: 2001 - 2001\n",
      "test:       2001 - 2001\n",
      "------------------ hyperparams -----------------\n",
      "num workers: 8\n",
      "prefetch factor: 2\n",
      "epochs: 3\n",
      "train batch size: 32\n",
      "test batch size: 64\n",
      "lr: 0.0002\n",
      "latent dim: 8\n",
      "generator channels: 64\n",
      "generator num. residual blocks: 5\n",
      "generator num. downsampling: 2\n",
      "apply dropout: False\n",
      "discriminator channels: 32\n",
      "discriminator num layers: 3\n",
      "num discriminator steps: 5\n",
      "loading datasets..\n",
      "finished\n",
      "loading datasets..\n",
      "finished\n",
      "loading datasets..\n",
      "finished\n",
      "loading datasets..\n",
      "finished\n"
     ]
    },
    {
     "name": "stderr",
     "output_type": "stream",
     "text": [
      "GPU available: True, used: True\n",
      "TPU available: False, using: 0 TPU cores\n",
      "IPU available: False, using: 0 IPUs\n",
      "LOCAL_RANK: 0 - CUDA_VISIBLE_DEVICES: [0]\n",
      "\n",
      "  | Name          | Type          | Params\n",
      "------------------------------------------------\n",
      "0 | generator     | Generator     | 6.7 M \n",
      "1 | discriminator | Discriminator | 693 K \n",
      "------------------------------------------------\n",
      "7.4 M     Trainable params\n",
      "0         Non-trainable params\n",
      "7.4 M     Total params\n",
      "29.480    Total estimated model params size (MB)\n"
     ]
    },
    {
     "data": {
      "application/vnd.jupyter.widget-view+json": {
       "model_id": "",
       "version_major": 2,
       "version_minor": 0
      },
      "text/plain": [
       "Validation sanity check: 0it [00:00, ?it/s]"
      ]
     },
     "metadata": {},
     "output_type": "display_data"
    },
    {
     "data": {
      "application/vnd.jupyter.widget-view+json": {
       "model_id": "6558fa007eca4d75ae5aa09ac0aea4ba",
       "version_major": 2,
       "version_minor": 0
      },
      "text/plain": [
       "Training: 0it [00:00, ?it/s]"
      ]
     },
     "metadata": {},
     "output_type": "display_data"
    },
    {
     "data": {
      "application/vnd.jupyter.widget-view+json": {
       "model_id": "",
       "version_major": 2,
       "version_minor": 0
      },
      "text/plain": [
       "Validating: 0it [00:00, ?it/s]"
      ]
     },
     "metadata": {},
     "output_type": "display_data"
    },
    {
     "data": {
      "application/vnd.jupyter.widget-view+json": {
       "model_id": "",
       "version_major": 2,
       "version_minor": 0
      },
      "text/plain": [
       "Validating: 0it [00:00, ?it/s]"
      ]
     },
     "metadata": {},
     "output_type": "display_data"
    },
    {
     "data": {
      "application/vnd.jupyter.widget-view+json": {
       "model_id": "",
       "version_major": 2,
       "version_minor": 0
      },
      "text/plain": [
       "Validating: 0it [00:00, ?it/s]"
      ]
     },
     "metadata": {},
     "output_type": "display_data"
    },
    {
     "name": "stderr",
     "output_type": "stream",
     "text": [
      "FIT Profiler Report\n",
      "\n",
      "Action                             \t|  Mean duration (s)\t|Num calls      \t|  Total time (s) \t|  Percentage %   \t|\n",
      "--------------------------------------------------------------------------------------------------------------------------------------\n",
      "Total                              \t|  -              \t|_              \t|  165.67         \t|  100 %          \t|\n",
      "--------------------------------------------------------------------------------------------------------------------------------------\n",
      "run_training_epoch                 \t|  54.785         \t|3              \t|  164.36         \t|  99.205         \t|\n",
      "run_training_batch                 \t|  0.08652        \t|1743           \t|  150.8          \t|  91.026         \t|\n",
      "training_step_and_backward         \t|  0.052974       \t|1743           \t|  92.334         \t|  55.733         \t|\n",
      "optimizer_step_with_closure_1      \t|  0.061203       \t|1452           \t|  88.866         \t|  53.64          \t|\n",
      "model_forward                      \t|  0.047987       \t|1743           \t|  83.641         \t|  50.486         \t|\n",
      "training_step                      \t|  0.047786       \t|1743           \t|  83.291         \t|  50.274         \t|\n",
      "backward                           \t|  0.0047822      \t|1743           \t|  8.3354         \t|  5.0313         \t|\n",
      "optimizer_step_with_closure_0      \t|  0.018843       \t|291            \t|  5.4833         \t|  3.3097         \t|\n",
      "get_train_batch                    \t|  0.0015169      \t|1746           \t|  2.6485         \t|  1.5986         \t|\n",
      "fetch_next_train_batch             \t|  0.001499       \t|1746           \t|  2.6172         \t|  1.5798         \t|\n",
      "on_train_batch_end                 \t|  0.001431       \t|1743           \t|  2.4942         \t|  1.5055         \t|\n",
      "evaluation_step_and_end            \t|  0.10263        \t|17             \t|  1.7447         \t|  1.0531         \t|\n",
      "validation_step                    \t|  0.10257        \t|17             \t|  1.7437         \t|  1.0525         \t|\n",
      "training_batch_to_device           \t|  0.00060642     \t|1743           \t|  1.057          \t|  0.638          \t|\n",
      "get_validate_batch                 \t|  0.051492       \t|18             \t|  0.92686        \t|  0.55946        \t|\n",
      "fetch_next_validate_batch          \t|  0.051473       \t|18             \t|  0.92651        \t|  0.55924        \t|\n",
      "zero_grad                          \t|  0.00018462     \t|1743           \t|  0.32178        \t|  0.19423        \t|\n",
      "on_train_epoch_end                 \t|  0.10621        \t|3              \t|  0.31864        \t|  0.19233        \t|\n",
      "on_train_batch_start               \t|  0.00013718     \t|1743           \t|  0.23911        \t|  0.14433        \t|\n",
      "get_sanity_check_batch             \t|  0.077318       \t|3              \t|  0.23195        \t|  0.14001        \t|\n",
      "fetch_next_sanity_check_batch      \t|  0.077287       \t|3              \t|  0.23186        \t|  0.13995        \t|\n",
      "on_train_end                       \t|  0.1885         \t|1              \t|  0.1885         \t|  0.11378        \t|\n",
      "on_validation_start                \t|  0.011038       \t|4              \t|  0.044152       \t|  0.02665        \t|\n",
      "on_batch_start                     \t|  1.8112e-05     \t|1743           \t|  0.03157        \t|  0.019056       \t|\n",
      "on_after_backward                  \t|  1.3925e-05     \t|1743           \t|  0.024271       \t|  0.01465        \t|\n",
      "on_batch_end                       \t|  1.3458e-05     \t|1743           \t|  0.023458       \t|  0.014159       \t|\n",
      "on_before_zero_grad                \t|  1.3302e-05     \t|1743           \t|  0.023186       \t|  0.013995       \t|\n",
      "on_train_start                     \t|  0.021235       \t|1              \t|  0.021235       \t|  0.012817       \t|\n",
      "on_validation_batch_end            \t|  0.0011198      \t|17             \t|  0.019037       \t|  0.01149        \t|\n",
      "on_before_backward                 \t|  1.0066e-05     \t|1743           \t|  0.017544       \t|  0.01059        \t|\n",
      "evaluation_batch_to_device         \t|  0.00099641     \t|17             \t|  0.016939       \t|  0.010224       \t|\n",
      "on_before_optimizer_step           \t|  9.0921e-06     \t|1743           \t|  0.015847       \t|  0.0095656      \t|\n",
      "on_sanity_check_start              \t|  0.01376        \t|1              \t|  0.01376        \t|  0.0083056      \t|\n",
      "training_step_end                  \t|  5.4316e-06     \t|1743           \t|  0.0094673      \t|  0.0057145      \t|\n",
      "on_train_epoch_start               \t|  0.0014955      \t|3              \t|  0.0044864      \t|  0.002708       \t|\n",
      "on_validation_end                  \t|  0.00071069     \t|4              \t|  0.0028428      \t|  0.0017159      \t|\n",
      "on_pretrain_routine_start          \t|  0.0014363      \t|1              \t|  0.0014363      \t|  0.00086697     \t|\n",
      "on_validation_model_eval           \t|  0.00021581     \t|4              \t|  0.00086325     \t|  0.00052106     \t|\n",
      "on_validation_batch_start          \t|  2.2224e-05     \t|17             \t|  0.00037782     \t|  0.00022805     \t|\n",
      "configure_optimizers               \t|  0.0002151      \t|1              \t|  0.0002151      \t|  0.00012984     \t|\n",
      "validation_step_end                \t|  5.9826e-06     \t|17             \t|  0.0001017      \t|  6.1389e-05     \t|\n",
      "on_validation_epoch_end            \t|  2.3426e-05     \t|4              \t|  9.3704e-05     \t|  5.656e-05      \t|\n",
      "on_epoch_start                     \t|  9.538e-06      \t|7              \t|  6.6766e-05     \t|  4.03e-05       \t|\n",
      "on_epoch_end                       \t|  8.8376e-06     \t|7              \t|  6.1863e-05     \t|  3.7341e-05     \t|\n",
      "on_validation_epoch_start          \t|  8.4118e-06     \t|4              \t|  3.3647e-05     \t|  2.0309e-05     \t|\n",
      "on_sanity_check_end                \t|  3.1675e-05     \t|1              \t|  3.1675e-05     \t|  1.9119e-05     \t|\n",
      "on_fit_end                         \t|  1.6735e-05     \t|1              \t|  1.6735e-05     \t|  1.0101e-05     \t|\n",
      "on_fit_start                       \t|  1.112e-05      \t|1              \t|  1.112e-05      \t|  6.7121e-06     \t|\n",
      "on_before_accelerator_backend_setup\t|  1.0329e-05     \t|1              \t|  1.0329e-05     \t|  6.2346e-06     \t|\n",
      "on_pretrain_routine_end            \t|  1.0093e-05     \t|1              \t|  1.0093e-05     \t|  6.0922e-06     \t|\n",
      "teardown                           \t|  1.0039e-05     \t|1              \t|  1.0039e-05     \t|  6.0596e-06     \t|\n",
      "on_configure_sharded_model         \t|  9.943e-06      \t|1              \t|  9.943e-06      \t|  6.0016e-06     \t|\n",
      "setup                              \t|  7.5e-06        \t|1              \t|  7.5e-06        \t|  4.527e-06      \t|\n",
      "on_train_dataloader                \t|  7.314e-06      \t|1              \t|  7.314e-06      \t|  4.4147e-06     \t|\n",
      "configure_callbacks                \t|  4.679e-06      \t|1              \t|  4.679e-06      \t|  2.8243e-06     \t|\n",
      "configure_sharded_model            \t|  4.521e-06      \t|1              \t|  4.521e-06      \t|  2.7289e-06     \t|\n",
      "on_val_dataloader                  \t|  3.313e-06      \t|1              \t|  3.313e-06      \t|  1.9997e-06     \t|\n",
      "prepare_data                       \t|  2.928e-06      \t|1              \t|  2.928e-06      \t|  1.7673e-06     \t|\n",
      "\n"
     ]
    }
   ],
   "source": [
    "training(Config(), enable_profiler=True)"
   ]
  },
  {
   "cell_type": "markdown",
   "id": "c9ddc55e-0b5a-4966-8c70-5014960f958a",
   "metadata": {
    "tags": []
   },
   "source": [
    "# Debug"
   ]
  },
  {
   "cell_type": "code",
   "execution_count": null,
   "id": "f05ea696-d409-4f64-b5bc-65cb4bc5190f",
   "metadata": {},
   "outputs": [],
   "source": []
  }
 ],
 "metadata": {
  "kernelspec": {
   "display_name": "Python 3 (ipykernel)",
   "language": "python",
   "name": "python3"
  },
  "language_info": {
   "codemirror_mode": {
    "name": "ipython",
    "version": 3
   },
   "file_extension": ".py",
   "mimetype": "text/x-python",
   "name": "python",
   "nbconvert_exporter": "python",
   "pygments_lexer": "ipython3",
   "version": "3.9.10"
  }
 },
 "nbformat": 4,
 "nbformat_minor": 5
}
