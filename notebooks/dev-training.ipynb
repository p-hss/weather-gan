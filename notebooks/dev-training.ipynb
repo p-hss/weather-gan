{
 "cells": [
  {
   "cell_type": "code",
   "execution_count": 1,
   "id": "141e4eea-ea98-45c9-a996-0c725f7acbbf",
   "metadata": {},
   "outputs": [
    {
     "name": "stdout",
     "output_type": "stream",
     "text": [
      "/home/ftei-dsw/projects/weather-gan\n"
     ]
    }
   ],
   "source": [
    "%load_ext autoreload\n",
    "%autoreload 2\n",
    "%cd /home/ftei-dsw/projects/weather-gan"
   ]
  },
  {
   "cell_type": "code",
   "execution_count": 2,
   "id": "263437ee-55c2-4642-b64d-863053ca21fc",
   "metadata": {},
   "outputs": [],
   "source": [
    "from src.model import Generator, Discriminator\n",
    "from src.trainer import WeatherGenerator\n",
    "from src.data import DataModule\n",
    "from pytorch_lightning.trainer import Trainer\n",
    "from pytorch_lightning.loggers import TensorBoardLogger\n",
    "\n",
    "import torch"
   ]
  },
  {
   "cell_type": "markdown",
   "id": "199f7216-0b2e-46db-b97c-02bd886dad32",
   "metadata": {},
   "source": [
    "# start training"
   ]
  },
  {
   "cell_type": "code",
   "execution_count": null,
   "id": "6fe56a45-e0a6-4dda-84b2-755cb23c3859",
   "metadata": {},
   "outputs": [
    {
     "name": "stderr",
     "output_type": "stream",
     "text": [
      "GPU available: True, used: True\n",
      "TPU available: False, using: 0 TPU cores\n",
      "IPU available: False, using: 0 IPUs\n",
      "LOCAL_RANK: 0 - CUDA_VISIBLE_DEVICES: [0]\n",
      "\n",
      "  | Name          | Type          | Params\n",
      "------------------------------------------------\n",
      "0 | generator     | Generator     | 4.3 M \n",
      "1 | discriminator | Discriminator | 167 K \n",
      "------------------------------------------------\n",
      "4.5 M     Trainable params\n",
      "0         Non-trainable params\n",
      "4.5 M     Total params\n",
      "17.958    Total estimated model params size (MB)\n"
     ]
    },
    {
     "data": {
      "application/vnd.jupyter.widget-view+json": {
       "model_id": "7f52aafc61334b179e90a1085595f07c",
       "version_major": 2,
       "version_minor": 0
      },
      "text/plain": [
       "Training: 0it [00:00, ?it/s]"
      ]
     },
     "metadata": {},
     "output_type": "display_data"
    }
   ],
   "source": [
    "tb_logger = TensorBoardLogger('/home/ftei-dsw/data/weather-gan/tensorboard',\n",
    "                                           name='weather-gan',\n",
    "                                           default_hp_metric=False,\n",
    "                                           version = '0.1')\n",
    "\n",
    "\n",
    "model = WeatherGenerator(latent_dim=10,\n",
    "                      lr=0.0002,\n",
    "                      b1=0.5,\n",
    "                      b2=0.999,\n",
    "                      batch_size=5)\n",
    "\n",
    "data = DataModule(train_batch_size=5,\n",
    "                  test_batch_size=64)\n",
    "\n",
    "data.setup('fit')\n",
    "trainer = Trainer(gpus=1,\n",
    "                 logger=tb_logger)\n",
    "\n",
    "trainer.fit(model, data)"
   ]
  },
  {
   "cell_type": "code",
   "execution_count": 13,
   "id": "36a0315d-f4ef-4cd2-a123-09de732042b7",
   "metadata": {},
   "outputs": [
    {
     "data": {
      "text/plain": [
       "torch.Size([1, 44, 3, 4])"
      ]
     },
     "execution_count": 13,
     "metadata": {},
     "output_type": "execute_result"
    }
   ],
   "source": [
    "a = torch.ones(1,22,3,4)\n",
    "b = torch.ones(1,22,3,4)\n",
    "torch.cat([a,b], dim=1).shape"
   ]
  },
  {
   "cell_type": "code",
   "execution_count": 17,
   "id": "0cdb909f-f7be-4034-831b-6473a3d0fac0",
   "metadata": {},
   "outputs": [
    {
     "data": {
      "text/plain": [
       "tensor([[[1., 1., 1., 1.],\n",
       "         [1., 1., 1., 1.],\n",
       "         [1., 1., 1., 1.],\n",
       "         [1., 1., 1., 1.]],\n",
       "\n",
       "        [[1., 1., 1., 1.],\n",
       "         [1., 1., 1., 1.],\n",
       "         [1., 1., 1., 1.],\n",
       "         [1., 1., 1., 1.]],\n",
       "\n",
       "        [[1., 1., 1., 1.],\n",
       "         [1., 1., 1., 1.],\n",
       "         [1., 1., 1., 1.],\n",
       "         [1., 1., 1., 1.]]])"
      ]
     },
     "execution_count": 17,
     "metadata": {},
     "output_type": "execute_result"
    }
   ],
   "source": [
    "a = torch.ones(3,4,4)\n",
    "import torchvision\n",
    "torchvision.utils.make_grid(a)"
   ]
  },
  {
   "cell_type": "code",
   "execution_count": 3,
   "id": "22f4baa9-8e59-4634-a574-23e103686322",
   "metadata": {},
   "outputs": [],
   "source": [
    "#from pytorch_lightning.callbacks import LearningRateMonitor, ModelCheckpoint, progress\n",
    "#    from pytorch_lightning.loggers import TensorBoardLogger\n",
    "#\n",
    "#def get_cycle_gan_callbacks(checkpoint_path, continued_training=False) -> list:\n",
    "#\n",
    "#    lr_logger = LearningRateMonitor(logging_interval='epoch')\n",
    "#\n",
    "#    checkpoint_callback = ModelCheckpoint(monitor=\"g_tot_val_loss\",\n",
    "#                                          dirpath=checkpoint_path,\n",
    "#                                          save_top_k = 50,\n",
    "#                                          #period=2,\n",
    "#                                          save_last=True)\n",
    "#    if continued_training:\n",
    "#        checkpoint_callback.CHECKPOINT_NAME_LAST = \"{epoch}-last-continued\"\n",
    "#\n",
    "#    #progress_bar = progress.TQDMProgressBar(refresh_rate=2)\n",
    "#\n",
    "#    #callbacks = [lr_logger, checkpoint_callback, progress_bar]\n",
    "#    callbacks = [lr_logger, checkpoint_callback]\n",
    "#\n",
    "#    return callbacks"
   ]
  },
  {
   "cell_type": "code",
   "execution_count": null,
   "id": "e2051e9e-814a-47ce-95ba-bc8062107716",
   "metadata": {},
   "outputs": [],
   "source": []
  }
 ],
 "metadata": {
  "kernelspec": {
   "display_name": "Python 3 (ipykernel)",
   "language": "python",
   "name": "python3"
  },
  "language_info": {
   "codemirror_mode": {
    "name": "ipython",
    "version": 3
   },
   "file_extension": ".py",
   "mimetype": "text/x-python",
   "name": "python",
   "nbconvert_exporter": "python",
   "pygments_lexer": "ipython3",
   "version": "3.9.10"
  }
 },
 "nbformat": 4,
 "nbformat_minor": 5
}
