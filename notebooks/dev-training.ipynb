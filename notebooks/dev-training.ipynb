{
 "cells": [
  {
   "cell_type": "code",
   "execution_count": 1,
   "id": "141e4eea-ea98-45c9-a996-0c725f7acbbf",
   "metadata": {},
   "outputs": [
    {
     "name": "stdout",
     "output_type": "stream",
     "text": [
      "/home/ftei-dsw/projects/weather-gan\n"
     ]
    }
   ],
   "source": [
    "%load_ext autoreload\n",
    "%autoreload 2\n",
    "%cd /home/ftei-dsw/projects/weather-gan"
   ]
  },
  {
   "cell_type": "code",
   "execution_count": 12,
   "id": "263437ee-55c2-4642-b64d-863053ca21fc",
   "metadata": {},
   "outputs": [],
   "source": [
    "from src.model import Generator, Discriminator\n",
    "from src.trainer import WeatherGenerator\n",
    "from src.data import DataModule\n",
    "from pytorch_lightning.trainer import Trainer\n",
    "from pytorch_lightning.loggers import TensorBoardLogger\n",
    "from src.utils import get_version\n",
    "\n",
    "import torch"
   ]
  },
  {
   "cell_type": "markdown",
   "id": "199f7216-0b2e-46db-b97c-02bd886dad32",
   "metadata": {},
   "source": [
    "# start training"
   ]
  },
  {
   "cell_type": "code",
   "execution_count": 28,
   "id": "422c68b8-122a-42f4-8ed7-a61b2768eb35",
   "metadata": {},
   "outputs": [],
   "source": [
    "from typing import List\n",
    "from dataclasses import dataclass, field\n",
    "\n",
    "@dataclass\n",
    "class Config:\n",
    "    \n",
    "    scratch_path = '/home/ftei-dsw/data/weather-gan'\n",
    "    tensorboard_path: str = f'{scratch_path}/tensorboard/'\n",
    "    checkpoint_path: str = f'{scratch_path}/checkpoints/'\n",
    "    config_path: str = f'{scratch_path}/config-files/'\n",
    "    results_path: str = f'{scratch_path}/results/'\n",
    "    input_fname: str = f'{scratch_path}/datasets/monthly_gfdl_historical.nc'\n",
    "    target_fname: str = f'{scratch_path}/datasets/daily_gfdl_historical.nc'\n",
    "\n",
    "    train_start: int = 1850\n",
    "    train_end: int = 1986\n",
    "    valid_start: int = 2000\n",
    "    valid_end: int = 2014\n",
    "    test_start: int = 2000\n",
    "    test_end: int = 2014\n",
    "    \n",
    "    model_name: str = 'weather-gan'\n",
    "    \n",
    "    num_variables: int = 2\n",
    "    epochs: int = 10\n",
    "    train_batch_size: int = 32\n",
    "    test_batch_size: int = 64\n",
    "    lr: float = 0.0002\n",
    "    beta1: float = 0.5\n",
    "    beta2: float = 0.999\n",
    "    \n",
    "    latent_dim: int = 8\n",
    "    apply_dropout: bool = False\n",
    "    generator_channels: int = 64\n",
    "    generator_num_resblocks: int = 5\n",
    "    generator_num_downsampling: int = 2\n",
    "\n",
    "    discriminator_channels: int = 32\n",
    "    discriminator_num_layers = 3\n",
    "    n_critic = 5\n"
   ]
  },
  {
   "cell_type": "code",
   "execution_count": null,
   "id": "6fe56a45-e0a6-4dda-84b2-755cb23c3859",
   "metadata": {},
   "outputs": [
    {
     "name": "stderr",
     "output_type": "stream",
     "text": [
      "GPU available: True, used: True\n",
      "TPU available: False, using: 0 TPU cores\n",
      "IPU available: False, using: 0 IPUs\n",
      "LOCAL_RANK: 0 - CUDA_VISIBLE_DEVICES: [0]\n",
      "\n",
      "  | Name          | Type          | Params\n",
      "------------------------------------------------\n",
      "0 | generator     | Generator     | 6.7 M \n",
      "1 | discriminator | Discriminator | 693 K \n",
      "------------------------------------------------\n",
      "7.4 M     Trainable params\n",
      "0         Non-trainable params\n",
      "7.4 M     Total params\n",
      "29.480    Total estimated model params size (MB)\n"
     ]
    },
    {
     "data": {
      "application/vnd.jupyter.widget-view+json": {
       "model_id": "4716d8d75f664d0283046add924c810b",
       "version_major": 2,
       "version_minor": 0
      },
      "text/plain": [
       "Training: 0it [00:00, ?it/s]"
      ]
     },
     "metadata": {},
     "output_type": "display_data"
    }
   ],
   "source": [
    "def training(config):\n",
    "\n",
    "    tb_logger = TensorBoardLogger(config.tensorboard_path,\n",
    "                                  name=config.model_name,\n",
    "                                  default_hp_metric=False,\n",
    "                                  version = get_version())\n",
    "    \n",
    "    model = WeatherGenerator(config)\n",
    "                             \n",
    "    data = DataModule(config)\n",
    "    data.setup('fit')\n",
    "    \n",
    "    trainer = Trainer(gpus=1,\n",
    "                     logger=tb_logger)\n",
    "    \n",
    "    trainer.fit(model, data)\n",
    "\n",
    "training(Config())"
   ]
  },
  {
   "cell_type": "code",
   "execution_count": 13,
   "id": "36a0315d-f4ef-4cd2-a123-09de732042b7",
   "metadata": {},
   "outputs": [
    {
     "data": {
      "text/plain": [
       "torch.Size([1, 44, 3, 4])"
      ]
     },
     "execution_count": 13,
     "metadata": {},
     "output_type": "execute_result"
    }
   ],
   "source": [
    "a = torch.ones(1,22,3,4)\n",
    "b = torch.ones(1,22,3,4)\n",
    "torch.cat([a,b], dim=1).shape"
   ]
  },
  {
   "cell_type": "code",
   "execution_count": 17,
   "id": "0cdb909f-f7be-4034-831b-6473a3d0fac0",
   "metadata": {},
   "outputs": [
    {
     "data": {
      "text/plain": [
       "tensor([[[1., 1., 1., 1.],\n",
       "         [1., 1., 1., 1.],\n",
       "         [1., 1., 1., 1.],\n",
       "         [1., 1., 1., 1.]],\n",
       "\n",
       "        [[1., 1., 1., 1.],\n",
       "         [1., 1., 1., 1.],\n",
       "         [1., 1., 1., 1.],\n",
       "         [1., 1., 1., 1.]],\n",
       "\n",
       "        [[1., 1., 1., 1.],\n",
       "         [1., 1., 1., 1.],\n",
       "         [1., 1., 1., 1.],\n",
       "         [1., 1., 1., 1.]]])"
      ]
     },
     "execution_count": 17,
     "metadata": {},
     "output_type": "execute_result"
    }
   ],
   "source": [
    "a = torch.ones(3,4,4)\n",
    "import torchvision\n",
    "torchvision.utils.make_grid(a)"
   ]
  },
  {
   "cell_type": "code",
   "execution_count": 3,
   "id": "22f4baa9-8e59-4634-a574-23e103686322",
   "metadata": {},
   "outputs": [],
   "source": [
    "#from pytorch_lightning.callbacks import LearningRateMonitor, ModelCheckpoint, progress\n",
    "#    from pytorch_lightning.loggers import TensorBoardLogger\n",
    "#\n",
    "#def get_cycle_gan_callbacks(checkpoint_path, continued_training=False) -> list:\n",
    "#\n",
    "#    lr_logger = LearningRateMonitor(logging_interval='epoch')\n",
    "#\n",
    "#    checkpoint_callback = ModelCheckpoint(monitor=\"g_tot_val_loss\",\n",
    "#                                          dirpath=checkpoint_path,\n",
    "#                                          save_top_k = 50,\n",
    "#                                          #period=2,\n",
    "#                                          save_last=True)\n",
    "#    if continued_training:\n",
    "#        checkpoint_callback.CHECKPOINT_NAME_LAST = \"{epoch}-last-continued\"\n",
    "#\n",
    "#    #progress_bar = progress.TQDMProgressBar(refresh_rate=2)\n",
    "#\n",
    "#    #callbacks = [lr_logger, checkpoint_callback, progress_bar]\n",
    "#    callbacks = [lr_logger, checkpoint_callback]\n",
    "#\n",
    "#    return callbacks"
   ]
  },
  {
   "cell_type": "code",
   "execution_count": null,
   "id": "e2051e9e-814a-47ce-95ba-bc8062107716",
   "metadata": {},
   "outputs": [],
   "source": []
  }
 ],
 "metadata": {
  "kernelspec": {
   "display_name": "Python 3 (ipykernel)",
   "language": "python",
   "name": "python3"
  },
  "language_info": {
   "codemirror_mode": {
    "name": "ipython",
    "version": 3
   },
   "file_extension": ".py",
   "mimetype": "text/x-python",
   "name": "python",
   "nbconvert_exporter": "python",
   "pygments_lexer": "ipython3",
   "version": "3.9.10"
  }
 },
 "nbformat": 4,
 "nbformat_minor": 5
}
