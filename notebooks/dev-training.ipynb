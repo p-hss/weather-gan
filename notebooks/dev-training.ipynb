{
 "cells": [
  {
   "cell_type": "code",
   "execution_count": 1,
   "id": "141e4eea-ea98-45c9-a996-0c725f7acbbf",
   "metadata": {},
   "outputs": [
    {
     "name": "stdout",
     "output_type": "stream",
     "text": [
      "/home/ftei-dsw/projects/weather-gan\n"
     ]
    }
   ],
   "source": [
    "%load_ext autoreload\n",
    "%autoreload 2\n",
    "%cd /home/ftei-dsw/projects/weather-gan"
   ]
  },
  {
   "cell_type": "code",
   "execution_count": 19,
   "id": "263437ee-55c2-4642-b64d-863053ca21fc",
   "metadata": {},
   "outputs": [],
   "source": [
    "import torch\n",
    "from pytorch_lightning.trainer import Trainer\n",
    "from pytorch_lightning.loggers import TensorBoardLogger\n",
    "\n",
    "from src.model import Generator, Discriminator\n",
    "from src.trainer import WeatherGenerator\n",
    "from src.data import DataModule\n",
    "from src.utils import get_version, show_config\n",
    "from src.configuration import Config\n",
    "from src.trainer import training"
   ]
  },
  {
   "cell_type": "markdown",
   "id": "199f7216-0b2e-46db-b97c-02bd886dad32",
   "metadata": {
    "tags": []
   },
   "source": [
    "# start training"
   ]
  },
  {
   "cell_type": "code",
   "execution_count": 21,
   "id": "422c68b8-122a-42f4-8ed7-a61b2768eb35",
   "metadata": {},
   "outputs": [
    {
     "name": "stdout",
     "output_type": "stream",
     "text": [
      "################ configuration ################\n",
      "-------------------- paths --------------------\n",
      "tensorbard: /home/ftei-dsw/data/weather-gan/tensorboard/\n",
      "checkpoint: /home/ftei-dsw/data/weather-gan/checkpoints/\n",
      "config: /home/ftei-dsw/data/weather-gan/config-files/\n",
      "results: /home/ftei-dsw/data/weather-gan/results/\n",
      "input: /home/ftei-dsw/data/weather-gan/datasets/monthly_gfdl_historical.nc\n",
      "target: /home/ftei-dsw/data/weather-gan/datasets/daily_gfdl_historical.nc\n",
      "-------------------- splits  -------------------\n",
      "training:   1970 - 2000\n",
      "validation: 2001 - 2014\n",
      "test:       2000 - 2014\n",
      "------------------ hyperparams -----------------\n",
      "epochs: 210\n",
      "train batch size: 32\n",
      "test batch size: 64\n",
      "lr: 0.0002\n",
      "latent dim: 8\n",
      "generator channels: 64\n",
      "generator num. residual blocks: 5\n",
      "generator num. downsampling: 2\n",
      "apply dropout: False\n",
      "discriminator channels: 32\n",
      "discriminator num layers: 3\n",
      "num discriminator steps: 5\n"
     ]
    }
   ],
   "source": [
    "show_config(Config())\n"
   ]
  },
  {
   "cell_type": "code",
   "execution_count": 22,
   "id": "6fe56a45-e0a6-4dda-84b2-755cb23c3859",
   "metadata": {},
   "outputs": [
    {
     "name": "stderr",
     "output_type": "stream",
     "text": [
      "GPU available: True, used: True\n",
      "TPU available: False, using: 0 TPU cores\n",
      "IPU available: False, using: 0 IPUs\n",
      "/opt/conda/envs/singularity/lib/python3.9/site-packages/pytorch_lightning/core/datamodule.py:469: LightningDeprecationWarning: DataModule.setup has already been called, so it will not be called again. In v1.6 this behavior will change to always call DataModule.setup.\n",
      "  rank_zero_deprecation(\n",
      "LOCAL_RANK: 0 - CUDA_VISIBLE_DEVICES: [0]\n",
      "\n",
      "  | Name          | Type          | Params\n",
      "------------------------------------------------\n",
      "0 | generator     | Generator     | 6.7 M \n",
      "1 | discriminator | Discriminator | 693 K \n",
      "------------------------------------------------\n",
      "7.4 M     Trainable params\n",
      "0         Non-trainable params\n",
      "7.4 M     Total params\n",
      "29.480    Total estimated model params size (MB)\n"
     ]
    },
    {
     "data": {
      "application/vnd.jupyter.widget-view+json": {
       "model_id": "64bbaa237610452f92d3c4265611206d",
       "version_major": 2,
       "version_minor": 0
      },
      "text/plain": [
       "Training: 0it [00:00, ?it/s]"
      ]
     },
     "metadata": {},
     "output_type": "display_data"
    },
    {
     "name": "stderr",
     "output_type": "stream",
     "text": [
      "/opt/conda/envs/singularity/lib/python3.9/site-packages/pytorch_lightning/loops/optimization/closure.py:35: LightningDeprecationWarning: One of the returned values {'progress_bar', 'log'} has a `grad_fn`. We will detach it automatically but this behaviour will change in v1.6. Please detach it manually: `return {'loss': ..., 'something': something.detach()}`\n",
      "  rank_zero_deprecation(\n",
      "/opt/conda/envs/singularity/lib/python3.9/site-packages/pytorch_lightning/trainer/trainer.py:688: UserWarning: Detected KeyboardInterrupt, attempting graceful shutdown...\n",
      "  rank_zero_warn(\"Detected KeyboardInterrupt, attempting graceful shutdown...\")\n"
     ]
    }
   ],
   "source": [
    "training(Config(), enable_profiler=True)"
   ]
  },
  {
   "cell_type": "markdown",
   "id": "c9ddc55e-0b5a-4966-8c70-5014960f958a",
   "metadata": {
    "tags": []
   },
   "source": [
    "# Debug"
   ]
  },
  {
   "cell_type": "code",
   "execution_count": null,
   "id": "f05ea696-d409-4f64-b5bc-65cb4bc5190f",
   "metadata": {},
   "outputs": [],
   "source": []
  }
 ],
 "metadata": {
  "kernelspec": {
   "display_name": "Python 3 (ipykernel)",
   "language": "python",
   "name": "python3"
  },
  "language_info": {
   "codemirror_mode": {
    "name": "ipython",
    "version": 3
   },
   "file_extension": ".py",
   "mimetype": "text/x-python",
   "name": "python",
   "nbconvert_exporter": "python",
   "pygments_lexer": "ipython3",
   "version": "3.9.10"
  }
 },
 "nbformat": 4,
 "nbformat_minor": 5
}
