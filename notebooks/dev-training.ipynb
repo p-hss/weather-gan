{
 "cells": [
  {
   "cell_type": "code",
   "execution_count": 1,
   "id": "141e4eea-ea98-45c9-a996-0c725f7acbbf",
   "metadata": {},
   "outputs": [
    {
     "name": "stdout",
     "output_type": "stream",
     "text": [
      "/home/ftei-dsw/projects/weather-gan\n"
     ]
    }
   ],
   "source": [
    "%load_ext autoreload\n",
    "%autoreload 2\n",
    "%cd /home/ftei-dsw/projects/weather-gan"
   ]
  },
  {
   "cell_type": "code",
   "execution_count": 8,
   "id": "263437ee-55c2-4642-b64d-863053ca21fc",
   "metadata": {},
   "outputs": [],
   "source": [
    "import torch\n",
    "from pytorch_lightning.trainer import Trainer\n",
    "from pytorch_lightning.loggers import TensorBoardLogger\n",
    "\n",
    "from src.model import Generator, Discriminator\n",
    "from src.trainer import WeatherGenerator\n",
    "from src.data import DataModule\n",
    "from src.utils import get_version\n",
    "from src.configuration import Config\n",
    "from src.trainer import training"
   ]
  },
  {
   "cell_type": "markdown",
   "id": "199f7216-0b2e-46db-b97c-02bd886dad32",
   "metadata": {
    "tags": []
   },
   "source": [
    "# start training"
   ]
  },
  {
   "cell_type": "code",
   "execution_count": 14,
   "id": "422c68b8-122a-42f4-8ed7-a61b2768eb35",
   "metadata": {},
   "outputs": [
    {
     "data": {
      "text/plain": [
       "Config(tensorboard_path='/home/ftei-dsw/data/weather-gan/tensorboard/', checkpoint_path='/home/ftei-dsw/data/weather-gan/checkpoints/', config_path='/home/ftei-dsw/data/weather-gan/config-files/', results_path='/home/ftei-dsw/data/weather-gan/results/', input_fname='/home/ftei-dsw/data/weather-gan/datasets/monthly_gfdl_historical.nc', target_fname='/home/ftei-dsw/data/weather-gan/datasets/daily_gfdl_historical.nc', train_start=1970, train_end=1986, valid_start=2000, valid_end=2014, test_start=2000, test_end=2014, model_name='weather-gan', num_variables=2, epochs=1, train_batch_size=32, test_batch_size=64, lr=0.0002, beta1=0.5, beta2=0.999, latent_dim=8, apply_dropout=False, generator_channels=64, generator_num_resblocks=5, generator_num_downsampling=2, discriminator_channels=32)"
      ]
     },
     "execution_count": 14,
     "metadata": {},
     "output_type": "execute_result"
    }
   ],
   "source": [
    "Config()"
   ]
  },
  {
   "cell_type": "code",
   "execution_count": 18,
   "id": "6fe56a45-e0a6-4dda-84b2-755cb23c3859",
   "metadata": {},
   "outputs": [
    {
     "ename": "RuntimeError",
     "evalue": "Error when starting Python worker threads for DALI parallel External Source. Cannot fork a process when the CUDA has been initialized in the process. CUDA is initialized during ``Pipeline.build()``, or can be initialized by another library that interacts with CUDA, for example a DL framework creating CUDA tensors.If you are trying to build multiple pipelines that use Python workers, you will need to call ``start_py_workers`` method on all of them before calling ``build`` method of any pipeline to start Python workers before CUDA is initialized by ``build`` or other CUDA operation.Alternatively you can change Python workers starting method from ``fork`` to ``spawn`` (see DALI Pipeline's ``py_start_method`` option for details). ",
     "output_type": "error",
     "traceback": [
      "\u001b[0;31m---------------------------------------------------------------------------\u001b[0m",
      "\u001b[0;31mRuntimeError\u001b[0m                              Traceback (most recent call last)",
      "Input \u001b[0;32mIn [18]\u001b[0m, in \u001b[0;36m<cell line: 1>\u001b[0;34m()\u001b[0m\n\u001b[0;32m----> 1\u001b[0m \u001b[43mtraining\u001b[49m\u001b[43m(\u001b[49m\u001b[43mConfig\u001b[49m\u001b[43m(\u001b[49m\u001b[43m)\u001b[49m\u001b[43m,\u001b[49m\u001b[43m \u001b[49m\u001b[43menable_profiler\u001b[49m\u001b[38;5;241;43m=\u001b[39;49m\u001b[38;5;28;43;01mTrue\u001b[39;49;00m\u001b[43m)\u001b[49m\n",
      "File \u001b[0;32m~/projects/weather-gan/src/trainer.py:19\u001b[0m, in \u001b[0;36mtraining\u001b[0;34m(config, enable_profiler)\u001b[0m\n\u001b[1;32m     16\u001b[0m model \u001b[38;5;241m=\u001b[39m WeatherGenerator(config)\n\u001b[1;32m     18\u001b[0m data \u001b[38;5;241m=\u001b[39m DataModule(config)\n\u001b[0;32m---> 19\u001b[0m \u001b[43mdata\u001b[49m\u001b[38;5;241;43m.\u001b[39;49m\u001b[43msetup\u001b[49m\u001b[43m(\u001b[49m\u001b[38;5;124;43m'\u001b[39;49m\u001b[38;5;124;43mfit\u001b[39;49m\u001b[38;5;124;43m'\u001b[39;49m\u001b[43m)\u001b[49m\n\u001b[1;32m     21\u001b[0m \u001b[38;5;28;01mif\u001b[39;00m enable_profiler:\n\u001b[1;32m     22\u001b[0m     profiler \u001b[38;5;241m=\u001b[39m \u001b[38;5;124m'\u001b[39m\u001b[38;5;124msimple\u001b[39m\u001b[38;5;124m'\u001b[39m\n",
      "File \u001b[0;32m/opt/conda/envs/singularity/lib/python3.9/site-packages/pytorch_lightning/core/datamodule.py:474\u001b[0m, in \u001b[0;36mLightningDataModule._track_data_hook_calls.<locals>.wrapped_fn\u001b[0;34m(*args, **kwargs)\u001b[0m\n\u001b[1;32m    469\u001b[0m     rank_zero_deprecation(\n\u001b[1;32m    470\u001b[0m         \u001b[38;5;124mf\u001b[39m\u001b[38;5;124m\"\u001b[39m\u001b[38;5;124mDataModule.\u001b[39m\u001b[38;5;132;01m{\u001b[39;00mname\u001b[38;5;132;01m}\u001b[39;00m\u001b[38;5;124m has already been called, so it will not be called again. \u001b[39m\u001b[38;5;124m\"\u001b[39m\n\u001b[1;32m    471\u001b[0m         \u001b[38;5;124mf\u001b[39m\u001b[38;5;124m\"\u001b[39m\u001b[38;5;124mIn v1.6 this behavior will change to always call DataModule.\u001b[39m\u001b[38;5;132;01m{\u001b[39;00mname\u001b[38;5;132;01m}\u001b[39;00m\u001b[38;5;124m.\u001b[39m\u001b[38;5;124m\"\u001b[39m\n\u001b[1;32m    472\u001b[0m     )\n\u001b[1;32m    473\u001b[0m \u001b[38;5;28;01melse\u001b[39;00m:\n\u001b[0;32m--> 474\u001b[0m     \u001b[43mfn\u001b[49m\u001b[43m(\u001b[49m\u001b[38;5;241;43m*\u001b[39;49m\u001b[43margs\u001b[49m\u001b[43m,\u001b[49m\u001b[43m \u001b[49m\u001b[38;5;241;43m*\u001b[39;49m\u001b[38;5;241;43m*\u001b[39;49m\u001b[43mkwargs\u001b[49m\u001b[43m)\u001b[49m\n",
      "File \u001b[0;32m~/projects/weather-gan/src/data.py:63\u001b[0m, in \u001b[0;36mDataModule.setup\u001b[0;34m(self, stage)\u001b[0m\n\u001b[1;32m     60\u001b[0m input_dataset \u001b[38;5;241m=\u001b[39m \u001b[38;5;28mself\u001b[39m\u001b[38;5;241m.\u001b[39mget_dataset(\u001b[38;5;124m'\u001b[39m\u001b[38;5;124mtrain\u001b[39m\u001b[38;5;124m'\u001b[39m, \u001b[38;5;28mself\u001b[39m\u001b[38;5;241m.\u001b[39minput_fname, \u001b[38;5;28mself\u001b[39m\u001b[38;5;241m.\u001b[39minput_variables)\n\u001b[1;32m     61\u001b[0m target_dataset \u001b[38;5;241m=\u001b[39m \u001b[38;5;28mself\u001b[39m\u001b[38;5;241m.\u001b[39mget_dataset(\u001b[38;5;124m'\u001b[39m\u001b[38;5;124mtrain\u001b[39m\u001b[38;5;124m'\u001b[39m, \u001b[38;5;28mself\u001b[39m\u001b[38;5;241m.\u001b[39mtarget_fname, \u001b[38;5;28mself\u001b[39m\u001b[38;5;241m.\u001b[39mtarget_variables)\n\u001b[0;32m---> 63\u001b[0m \u001b[38;5;28mself\u001b[39m\u001b[38;5;241m.\u001b[39mtrain_loader \u001b[38;5;241m=\u001b[39m \u001b[43mDaliLoader\u001b[49m\u001b[43m(\u001b[49m\u001b[43minput_dataset\u001b[49m\u001b[43m,\u001b[49m\n\u001b[1;32m     64\u001b[0m \u001b[43m                               \u001b[49m\u001b[43mtarget_dataset\u001b[49m\u001b[43m,\u001b[49m\n\u001b[1;32m     65\u001b[0m \u001b[43m                               \u001b[49m\u001b[38;5;28;43mself\u001b[39;49m\u001b[38;5;241;43m.\u001b[39;49m\u001b[43minput_variables\u001b[49m\u001b[43m,\u001b[49m\n\u001b[1;32m     66\u001b[0m \u001b[43m                               \u001b[49m\u001b[38;5;28;43mself\u001b[39;49m\u001b[38;5;241;43m.\u001b[39;49m\u001b[43mtarget_variables\u001b[49m\u001b[43m,\u001b[49m\n\u001b[1;32m     67\u001b[0m \u001b[43m                               \u001b[49m\u001b[38;5;28;43mself\u001b[39;49m\u001b[38;5;241;43m.\u001b[39;49m\u001b[43mtrain_batch_size\u001b[49m\u001b[43m,\u001b[49m\n\u001b[1;32m     68\u001b[0m \u001b[43m                               \u001b[49m\u001b[38;5;28;43mself\u001b[39;49m\u001b[38;5;241;43m.\u001b[39;49m\u001b[43mbatch_names\u001b[49m\u001b[43m,\u001b[49m\n\u001b[1;32m     69\u001b[0m \u001b[43m                               \u001b[49m\u001b[43mshuffle\u001b[49m\u001b[38;5;241;43m=\u001b[39;49m\u001b[38;5;28;43;01mTrue\u001b[39;49;00m\u001b[43m)\u001b[49m\n\u001b[1;32m     71\u001b[0m input_dataset \u001b[38;5;241m=\u001b[39m \u001b[38;5;28mself\u001b[39m\u001b[38;5;241m.\u001b[39mget_dataset(\u001b[38;5;124m'\u001b[39m\u001b[38;5;124mvalid\u001b[39m\u001b[38;5;124m'\u001b[39m, \u001b[38;5;28mself\u001b[39m\u001b[38;5;241m.\u001b[39minput_fname, \u001b[38;5;28mself\u001b[39m\u001b[38;5;241m.\u001b[39minput_variables)\n\u001b[1;32m     72\u001b[0m target_dataset \u001b[38;5;241m=\u001b[39m \u001b[38;5;28mself\u001b[39m\u001b[38;5;241m.\u001b[39mget_dataset(\u001b[38;5;124m'\u001b[39m\u001b[38;5;124mvalid\u001b[39m\u001b[38;5;124m'\u001b[39m, \u001b[38;5;28mself\u001b[39m\u001b[38;5;241m.\u001b[39mtarget_fname, \u001b[38;5;28mself\u001b[39m\u001b[38;5;241m.\u001b[39mtarget_variables)\n",
      "File \u001b[0;32m~/projects/weather-gan/src/data.py:179\u001b[0m, in \u001b[0;36mDaliLoader.__init__\u001b[0;34m(self, input_dataset, target_dataset, input_variables, target_variables, batch_size, output_map, shuffle)\u001b[0m\n\u001b[1;32m    163\u001b[0m target_source \u001b[38;5;241m=\u001b[39m ExternalInputIterator(target_dataset,\n\u001b[1;32m    164\u001b[0m                                       target_variables,\n\u001b[1;32m    165\u001b[0m                                       batch_size,\n\u001b[1;32m    166\u001b[0m                                       \u001b[38;5;28mself\u001b[39m\u001b[38;5;241m.\u001b[39mlength,\n\u001b[1;32m    167\u001b[0m                                       \u001b[38;5;66;03m#time_axis=None,\u001b[39;00m\n\u001b[1;32m    168\u001b[0m                                       shuffle\u001b[38;5;241m=\u001b[39mshuffle)\n\u001b[1;32m    170\u001b[0m pipe \u001b[38;5;241m=\u001b[39m pipeline(input_source,\n\u001b[1;32m    171\u001b[0m                 target_source,\n\u001b[1;32m    172\u001b[0m                 batch_size\u001b[38;5;241m=\u001b[39mbatch_size,\n\u001b[0;32m   (...)\u001b[0m\n\u001b[1;32m    176\u001b[0m                 exec_async\u001b[38;5;241m=\u001b[39m\u001b[38;5;28;01mFalse\u001b[39;00m,\n\u001b[1;32m    177\u001b[0m                 exec_pipelined\u001b[38;5;241m=\u001b[39m\u001b[38;5;28;01mFalse\u001b[39;00m)\n\u001b[0;32m--> 179\u001b[0m \u001b[38;5;28mself\u001b[39m\u001b[38;5;241m.\u001b[39mdali_iterator \u001b[38;5;241m=\u001b[39m \u001b[43mDALIGenericIterator\u001b[49m\u001b[43m(\u001b[49m\u001b[43mpipe\u001b[49m\u001b[43m,\u001b[49m\u001b[43m \u001b[49m\u001b[43moutput_map\u001b[49m\u001b[43m,\u001b[49m\u001b[43m \u001b[49m\u001b[43mauto_reset\u001b[49m\u001b[38;5;241;43m=\u001b[39;49m\u001b[38;5;28;43;01mTrue\u001b[39;49;00m\u001b[43m)\u001b[49m\n",
      "File \u001b[0;32m/opt/conda/envs/singularity/lib/python3.9/site-packages/nvidia/dali/plugin/pytorch.py:161\u001b[0m, in \u001b[0;36mDALIGenericIterator.__init__\u001b[0;34m(self, pipelines, output_map, size, reader_name, auto_reset, fill_last_batch, dynamic_shape, last_batch_padded, last_batch_policy, prepare_first_batch)\u001b[0m\n\u001b[1;32m    158\u001b[0m \u001b[38;5;28mself\u001b[39m\u001b[38;5;241m.\u001b[39m_output_categories \u001b[38;5;241m=\u001b[39m \u001b[38;5;28mset\u001b[39m(output_map)\n\u001b[1;32m    159\u001b[0m \u001b[38;5;28mself\u001b[39m\u001b[38;5;241m.\u001b[39moutput_map \u001b[38;5;241m=\u001b[39m output_map\n\u001b[0;32m--> 161\u001b[0m \u001b[43m_DaliBaseIterator\u001b[49m\u001b[38;5;241;43m.\u001b[39;49m\u001b[38;5;21;43m__init__\u001b[39;49m\u001b[43m(\u001b[49m\u001b[38;5;28;43mself\u001b[39;49m\u001b[43m,\u001b[49m\n\u001b[1;32m    162\u001b[0m \u001b[43m                           \u001b[49m\u001b[43mpipelines\u001b[49m\u001b[43m,\u001b[49m\n\u001b[1;32m    163\u001b[0m \u001b[43m                           \u001b[49m\u001b[43msize\u001b[49m\u001b[43m,\u001b[49m\n\u001b[1;32m    164\u001b[0m \u001b[43m                           \u001b[49m\u001b[43mreader_name\u001b[49m\u001b[43m,\u001b[49m\n\u001b[1;32m    165\u001b[0m \u001b[43m                           \u001b[49m\u001b[43mauto_reset\u001b[49m\u001b[43m,\u001b[49m\n\u001b[1;32m    166\u001b[0m \u001b[43m                           \u001b[49m\u001b[43mfill_last_batch\u001b[49m\u001b[43m,\u001b[49m\n\u001b[1;32m    167\u001b[0m \u001b[43m                           \u001b[49m\u001b[43mlast_batch_padded\u001b[49m\u001b[43m,\u001b[49m\n\u001b[1;32m    168\u001b[0m \u001b[43m                           \u001b[49m\u001b[43mlast_batch_policy\u001b[49m\u001b[43m,\u001b[49m\n\u001b[1;32m    169\u001b[0m \u001b[43m                           \u001b[49m\u001b[43mprepare_first_batch\u001b[49m\u001b[38;5;241;43m=\u001b[39;49m\u001b[43mprepare_first_batch\u001b[49m\u001b[43m)\u001b[49m\n\u001b[1;32m    171\u001b[0m \u001b[38;5;28mself\u001b[39m\u001b[38;5;241m.\u001b[39m_first_batch \u001b[38;5;241m=\u001b[39m \u001b[38;5;28;01mNone\u001b[39;00m\n\u001b[1;32m    172\u001b[0m \u001b[38;5;28;01mif\u001b[39;00m \u001b[38;5;28mself\u001b[39m\u001b[38;5;241m.\u001b[39m_prepare_first_batch:\n",
      "File \u001b[0;32m/opt/conda/envs/singularity/lib/python3.9/site-packages/nvidia/dali/plugin/base_iterator.py:171\u001b[0m, in \u001b[0;36m_DaliBaseIterator.__init__\u001b[0;34m(self, pipelines, size, reader_name, auto_reset, fill_last_batch, last_batch_padded, last_batch_policy, prepare_first_batch)\u001b[0m\n\u001b[1;32m    169\u001b[0m \u001b[38;5;28;01mfor\u001b[39;00m p \u001b[38;5;129;01min\u001b[39;00m \u001b[38;5;28mself\u001b[39m\u001b[38;5;241m.\u001b[39m_pipes:\n\u001b[1;32m    170\u001b[0m     \u001b[38;5;28;01mwith\u001b[39;00m p\u001b[38;5;241m.\u001b[39m_check_api_type_scope(types\u001b[38;5;241m.\u001b[39mPipelineAPIType\u001b[38;5;241m.\u001b[39mITERATOR):\n\u001b[0;32m--> 171\u001b[0m         \u001b[43mp\u001b[49m\u001b[38;5;241;43m.\u001b[39;49m\u001b[43mbuild\u001b[49m\u001b[43m(\u001b[49m\u001b[43m)\u001b[49m\n\u001b[1;32m    173\u001b[0m \u001b[38;5;28mself\u001b[39m\u001b[38;5;241m.\u001b[39m_reader_name \u001b[38;5;241m=\u001b[39m reader_name\n\u001b[1;32m    174\u001b[0m \u001b[38;5;28mself\u001b[39m\u001b[38;5;241m.\u001b[39m_extract_from_reader_and_validate()\n",
      "File \u001b[0;32m/opt/conda/envs/singularity/lib/python3.9/site-packages/nvidia/dali/pipeline.py:697\u001b[0m, in \u001b[0;36mPipeline.build\u001b[0;34m(self, define_graph)\u001b[0m\n\u001b[1;32m    693\u001b[0m \u001b[38;5;28;01mif\u001b[39;00m \u001b[38;5;28mself\u001b[39m\u001b[38;5;241m.\u001b[39mnum_threads \u001b[38;5;241m<\u001b[39m \u001b[38;5;241m1\u001b[39m:\n\u001b[1;32m    694\u001b[0m     \u001b[38;5;28;01mraise\u001b[39;00m \u001b[38;5;167;01mValueError\u001b[39;00m(\u001b[38;5;124m\"\u001b[39m\u001b[38;5;124mPipeline created with `num_threads` < 1 can only be used \u001b[39m\u001b[38;5;124m\"\u001b[39m\n\u001b[1;32m    695\u001b[0m                      \u001b[38;5;124m\"\u001b[39m\u001b[38;5;124mfor serialization.\u001b[39m\u001b[38;5;124m\"\u001b[39m)\n\u001b[0;32m--> 697\u001b[0m \u001b[38;5;28;43mself\u001b[39;49m\u001b[38;5;241;43m.\u001b[39;49m\u001b[43mstart_py_workers\u001b[49m\u001b[43m(\u001b[49m\u001b[43m)\u001b[49m\n\u001b[1;32m    698\u001b[0m \u001b[38;5;28;01mif\u001b[39;00m \u001b[38;5;129;01mnot\u001b[39;00m \u001b[38;5;28mself\u001b[39m\u001b[38;5;241m.\u001b[39m_backend_prepared:\n\u001b[1;32m    699\u001b[0m     \u001b[38;5;28mself\u001b[39m\u001b[38;5;241m.\u001b[39m_init_pipeline_backend()\n",
      "File \u001b[0;32m/opt/conda/envs/singularity/lib/python3.9/site-packages/nvidia/dali/pipeline.py:670\u001b[0m, in \u001b[0;36mPipeline.start_py_workers\u001b[0;34m(self)\u001b[0m\n\u001b[1;32m    668\u001b[0m     \u001b[38;5;28mself\u001b[39m\u001b[38;5;241m.\u001b[39m_build_graph()\n\u001b[1;32m    669\u001b[0m \u001b[38;5;28;01mif\u001b[39;00m \u001b[38;5;129;01mnot\u001b[39;00m \u001b[38;5;28mself\u001b[39m\u001b[38;5;241m.\u001b[39m_py_pool_started:\n\u001b[0;32m--> 670\u001b[0m     \u001b[38;5;28;43mself\u001b[39;49m\u001b[38;5;241;43m.\u001b[39;49m\u001b[43m_start_py_workers\u001b[49m\u001b[43m(\u001b[49m\u001b[43m)\u001b[49m\n",
      "File \u001b[0;32m/opt/conda/envs/singularity/lib/python3.9/site-packages/nvidia/dali/pipeline.py:588\u001b[0m, in \u001b[0;36mPipeline._start_py_workers\u001b[0;34m(self)\u001b[0m\n\u001b[1;32m    586\u001b[0m \u001b[38;5;28;01mif\u001b[39;00m \u001b[38;5;129;01mnot\u001b[39;00m \u001b[38;5;28mself\u001b[39m\u001b[38;5;241m.\u001b[39m_parallel_input_callbacks:\n\u001b[1;32m    587\u001b[0m     \u001b[38;5;28;01mreturn\u001b[39;00m\n\u001b[0;32m--> 588\u001b[0m \u001b[38;5;28mself\u001b[39m\u001b[38;5;241m.\u001b[39m_py_pool \u001b[38;5;241m=\u001b[39m \u001b[43mWorkerPool\u001b[49m\u001b[38;5;241;43m.\u001b[39;49m\u001b[43mfrom_groups\u001b[49m\u001b[43m(\u001b[49m\n\u001b[1;32m    589\u001b[0m \u001b[43m    \u001b[49m\u001b[38;5;28;43mself\u001b[39;49m\u001b[38;5;241;43m.\u001b[39;49m\u001b[43m_parallel_input_callbacks\u001b[49m\u001b[43m,\u001b[49m\u001b[43m \u001b[49m\u001b[38;5;28;43mself\u001b[39;49m\u001b[38;5;241;43m.\u001b[39;49m\u001b[43m_prefetch_queue_depth\u001b[49m\u001b[43m,\u001b[49m\u001b[43m \u001b[49m\u001b[38;5;28;43mself\u001b[39;49m\u001b[38;5;241;43m.\u001b[39;49m\u001b[43m_py_start_method\u001b[49m\u001b[43m,\u001b[49m\n\u001b[1;32m    590\u001b[0m \u001b[43m    \u001b[49m\u001b[38;5;28;43mself\u001b[39;49m\u001b[38;5;241;43m.\u001b[39;49m\u001b[43m_py_num_workers\u001b[49m\u001b[43m,\u001b[49m\u001b[43m \u001b[49m\u001b[43mpy_callback_pickler\u001b[49m\u001b[38;5;241;43m=\u001b[39;49m\u001b[38;5;28;43mself\u001b[39;49m\u001b[38;5;241;43m.\u001b[39;49m\u001b[43m_py_callback_pickler\u001b[49m\u001b[43m)\u001b[49m\n\u001b[1;32m    591\u001b[0m \u001b[38;5;66;03m# ensure processes started by the pool are termineted when pipeline is no longer used\u001b[39;00m\n\u001b[1;32m    592\u001b[0m weakref\u001b[38;5;241m.\u001b[39mfinalize(\u001b[38;5;28mself\u001b[39m, \u001b[38;5;28;01mlambda\u001b[39;00m pool : pool\u001b[38;5;241m.\u001b[39mclose(), \u001b[38;5;28mself\u001b[39m\u001b[38;5;241m.\u001b[39m_py_pool)\n",
      "File \u001b[0;32m/opt/conda/envs/singularity/lib/python3.9/site-packages/nvidia/dali/_multiproc/pool.py:621\u001b[0m, in \u001b[0;36mWorkerPool.from_groups\u001b[0;34m(cls, groups, keep_alive_queue_size, start_method, num_workers, initial_chunk_size, py_callback_pickler)\u001b[0m\n\u001b[1;32m    619\u001b[0m pool \u001b[38;5;241m=\u001b[39m \u001b[38;5;28;01mNone\u001b[39;00m\n\u001b[1;32m    620\u001b[0m \u001b[38;5;28;01mtry\u001b[39;00m:\n\u001b[0;32m--> 621\u001b[0m     pool \u001b[38;5;241m=\u001b[39m \u001b[43mProcPool\u001b[49m\u001b[38;5;241;43m.\u001b[39;49m\u001b[43mfrom_contexts\u001b[49m\u001b[43m(\u001b[49m\u001b[43mcontexts\u001b[49m\u001b[43m,\u001b[49m\u001b[43m \u001b[49m\u001b[43mnum_workers\u001b[49m\u001b[43m,\u001b[49m\u001b[43m \u001b[49m\u001b[43mstart_method\u001b[49m\u001b[43m,\u001b[49m\u001b[43m \u001b[49m\u001b[43mpy_callback_pickler\u001b[49m\u001b[43m)\u001b[49m\n\u001b[1;32m    622\u001b[0m     \u001b[38;5;66;03m# close underlying file descriptors that are not needed anymore once\u001b[39;00m\n\u001b[1;32m    623\u001b[0m     \u001b[38;5;66;03m# passed to the workers processes\u001b[39;00m\n\u001b[1;32m    624\u001b[0m     \u001b[38;5;28;01mfor\u001b[39;00m context \u001b[38;5;129;01min\u001b[39;00m contexts:\n",
      "File \u001b[0;32m/opt/conda/envs/singularity/lib/python3.9/site-packages/nvidia/dali/_multiproc/pool.py:369\u001b[0m, in \u001b[0;36mProcPool.from_contexts\u001b[0;34m(cls, contexts, num_workers, start_method, py_callback_pickler)\u001b[0m\n\u001b[1;32m    367\u001b[0m instance \u001b[38;5;241m=\u001b[39m \u001b[38;5;28;01mNone\u001b[39;00m\n\u001b[1;32m    368\u001b[0m \u001b[38;5;28;01mtry\u001b[39;00m:\n\u001b[0;32m--> 369\u001b[0m     instance \u001b[38;5;241m=\u001b[39m \u001b[38;5;28;43mcls\u001b[39;49m\u001b[43m(\u001b[49m\u001b[43mmp\u001b[49m\u001b[43m,\u001b[49m\u001b[43m \u001b[49m\u001b[43mworker_contexts\u001b[49m\u001b[43m,\u001b[49m\u001b[43m \u001b[49m\u001b[43mresult_queue\u001b[49m\u001b[43m,\u001b[49m\u001b[43m \u001b[49m\u001b[43mgeneral_task_queue\u001b[49m\u001b[43m,\u001b[49m\u001b[43m \u001b[49m\u001b[43mcallback_pickler\u001b[49m\u001b[43m)\u001b[49m\n\u001b[1;32m    370\u001b[0m     \u001b[38;5;28;01mif\u001b[39;00m general_task_queue \u001b[38;5;129;01mis\u001b[39;00m \u001b[38;5;129;01mnot\u001b[39;00m \u001b[38;5;28;01mNone\u001b[39;00m:\n\u001b[1;32m    371\u001b[0m         general_task_queue\u001b[38;5;241m.\u001b[39mclose_handle()\n",
      "File \u001b[0;32m/opt/conda/envs/singularity/lib/python3.9/site-packages/nvidia/dali/_multiproc/pool.py:302\u001b[0m, in \u001b[0;36mProcPool.__init__\u001b[0;34m(self, mp, workers_contexts, result_queue, general_task_queue, callback_pickler)\u001b[0m\n\u001b[1;32m    300\u001b[0m     \u001b[38;5;28;01mraise\u001b[39;00m \u001b[38;5;167;01mRuntimeError\u001b[39;00m(\u001b[38;5;124m\"\u001b[39m\u001b[38;5;124mCannot start a pool with no workers\u001b[39m\u001b[38;5;124m\"\u001b[39m)\n\u001b[1;32m    301\u001b[0m \u001b[38;5;28;01mif\u001b[39;00m start_method \u001b[38;5;241m==\u001b[39m \u001b[38;5;124m'\u001b[39m\u001b[38;5;124mfork\u001b[39m\u001b[38;5;124m'\u001b[39m \u001b[38;5;129;01mand\u001b[39;00m _b\u001b[38;5;241m.\u001b[39mIsDriverInitialized():\n\u001b[0;32m--> 302\u001b[0m     \u001b[38;5;28;01mraise\u001b[39;00m \u001b[38;5;167;01mRuntimeError\u001b[39;00m(\n\u001b[1;32m    303\u001b[0m         \u001b[38;5;124m\"\u001b[39m\u001b[38;5;124mError when starting Python worker threads for DALI parallel External Source. \u001b[39m\u001b[38;5;124m\"\u001b[39m\n\u001b[1;32m    304\u001b[0m         \u001b[38;5;124m\"\u001b[39m\u001b[38;5;124mCannot fork a process when the CUDA has been initialized in the process. \u001b[39m\u001b[38;5;124m\"\u001b[39m\n\u001b[1;32m    305\u001b[0m         \u001b[38;5;124m\"\u001b[39m\u001b[38;5;124mCUDA is initialized during ``Pipeline.build()``, or can be initialized by another \u001b[39m\u001b[38;5;124m\"\u001b[39m\n\u001b[1;32m    306\u001b[0m         \u001b[38;5;124m\"\u001b[39m\u001b[38;5;124mlibrary that interacts with CUDA, for example a DL framework creating CUDA tensors.\u001b[39m\u001b[38;5;124m\"\u001b[39m\n\u001b[1;32m    307\u001b[0m         \u001b[38;5;124m\"\u001b[39m\u001b[38;5;124mIf you are trying to build multiple pipelines that use Python workers, you will need to \u001b[39m\u001b[38;5;124m\"\u001b[39m\n\u001b[1;32m    308\u001b[0m         \u001b[38;5;124m\"\u001b[39m\u001b[38;5;124mcall ``start_py_workers`` method on all of them before calling ``build`` method of any pipeline \u001b[39m\u001b[38;5;124m\"\u001b[39m\n\u001b[1;32m    309\u001b[0m         \u001b[38;5;124m\"\u001b[39m\u001b[38;5;124mto start Python workers before CUDA is initialized by ``build`` or other CUDA operation.\u001b[39m\u001b[38;5;124m\"\u001b[39m\n\u001b[1;32m    310\u001b[0m         \u001b[38;5;124m\"\u001b[39m\u001b[38;5;124mAlternatively you can change Python workers starting method from ``fork`` to ``spawn`` \u001b[39m\u001b[38;5;124m\"\u001b[39m\n\u001b[1;32m    311\u001b[0m         \u001b[38;5;124m\"\u001b[39m\u001b[38;5;124m(see DALI Pipeline\u001b[39m\u001b[38;5;124m'\u001b[39m\u001b[38;5;124ms ``py_start_method`` option for details). \u001b[39m\u001b[38;5;124m\"\u001b[39m)\n\u001b[1;32m    312\u001b[0m \u001b[38;5;28mself\u001b[39m\u001b[38;5;241m.\u001b[39m_workers_contexts \u001b[38;5;241m=\u001b[39m workers_contexts\n\u001b[1;32m    313\u001b[0m \u001b[38;5;28mself\u001b[39m\u001b[38;5;241m.\u001b[39m_result_queue \u001b[38;5;241m=\u001b[39m result_queue\n",
      "\u001b[0;31mRuntimeError\u001b[0m: Error when starting Python worker threads for DALI parallel External Source. Cannot fork a process when the CUDA has been initialized in the process. CUDA is initialized during ``Pipeline.build()``, or can be initialized by another library that interacts with CUDA, for example a DL framework creating CUDA tensors.If you are trying to build multiple pipelines that use Python workers, you will need to call ``start_py_workers`` method on all of them before calling ``build`` method of any pipeline to start Python workers before CUDA is initialized by ``build`` or other CUDA operation.Alternatively you can change Python workers starting method from ``fork`` to ``spawn`` (see DALI Pipeline's ``py_start_method`` option for details). "
     ]
    }
   ],
   "source": [
    "training(Config(), enable_profiler=True)"
   ]
  },
  {
   "cell_type": "markdown",
   "id": "c9ddc55e-0b5a-4966-8c70-5014960f958a",
   "metadata": {
    "tags": []
   },
   "source": [
    "# Dev"
   ]
  },
  {
   "cell_type": "code",
   "execution_count": null,
   "id": "f05ea696-d409-4f64-b5bc-65cb4bc5190f",
   "metadata": {},
   "outputs": [],
   "source": []
  }
 ],
 "metadata": {
  "kernelspec": {
   "display_name": "Python 3 (ipykernel)",
   "language": "python",
   "name": "python3"
  },
  "language_info": {
   "codemirror_mode": {
    "name": "ipython",
    "version": 3
   },
   "file_extension": ".py",
   "mimetype": "text/x-python",
   "name": "python",
   "nbconvert_exporter": "python",
   "pygments_lexer": "ipython3",
   "version": "3.9.10"
  }
 },
 "nbformat": 4,
 "nbformat_minor": 5
}
