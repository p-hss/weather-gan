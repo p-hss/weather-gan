{
 "cells": [
  {
   "cell_type": "code",
   "execution_count": 2,
   "id": "141e4eea-ea98-45c9-a996-0c725f7acbbf",
   "metadata": {},
   "outputs": [
    {
     "name": "stdout",
     "output_type": "stream",
     "text": [
      "/home/hess/projects/weather-gan\n"
     ]
    }
   ],
   "source": [
    "%load_ext autoreload\n",
    "%autoreload 2\n",
    "#%cd /home/ftei-dsw/projects/weather-gan\n",
    "%cd /home/hess/projects/weather-gan"
   ]
  },
  {
   "cell_type": "code",
   "execution_count": 3,
   "id": "263437ee-55c2-4642-b64d-863053ca21fc",
   "metadata": {},
   "outputs": [],
   "source": [
    "import torch\n",
    "from pytorch_lightning.trainer import Trainer\n",
    "from pytorch_lightning.loggers import TensorBoardLogger\n",
    "\n",
    "from src.model import Generator, Discriminator\n",
    "from src.trainer import WeatherGenerator\n",
    "from src.data import DataModule\n",
    "from src.utils import get_version, show_config\n",
    "from src.configuration import Config\n",
    "from src.trainer import training"
   ]
  },
  {
   "cell_type": "code",
   "execution_count": 4,
   "id": "a14635fb-bf08-4822-a051-5fdc7c893e9f",
   "metadata": {},
   "outputs": [
    {
     "data": {
      "text/plain": [
       "'Checkpoint path: /home/ftei-dsw/data/weather-gan/checkpoints/weather-gan/16h_29m_18s/1bfcabc2-b67f-11ec-883b-845cf3c98452'"
      ]
     },
     "execution_count": 4,
     "metadata": {},
     "output_type": "execute_result"
    }
   ],
   "source": [
    "'Checkpoint path: /home/ftei-dsw/data/weather-gan/checkpoints/weather-gan/16h_29m_18s/1bfcabc2-b67f-11ec-883b-845cf3c98452'"
   ]
  },
  {
   "cell_type": "code",
   "execution_count": 7,
   "id": "819318e8-01ca-4413-b493-e716760bdfea",
   "metadata": {},
   "outputs": [
    {
     "data": {
      "text/plain": [
       "16"
      ]
     },
     "execution_count": 7,
     "metadata": {},
     "output_type": "execute_result"
    }
   ],
   "source": [
    "import multiprocessing\n",
    "multiprocessing.cpu_count()"
   ]
  },
  {
   "cell_type": "markdown",
   "id": "199f7216-0b2e-46db-b97c-02bd886dad32",
   "metadata": {
    "tags": []
   },
   "source": [
    "# start training"
   ]
  },
  {
   "cell_type": "code",
   "execution_count": null,
   "id": "6fe56a45-e0a6-4dda-84b2-755cb23c3859",
   "metadata": {},
   "outputs": [
    {
     "name": "stdout",
     "output_type": "stream",
     "text": [
      "Running model: weather-gan/11h_51m_24s/999673af-c60f-11ec-90cb-40f2e9c534b2\n",
      "Checkpoint path: /p/tmp/hess/scratch/weather-gan/checkpoints//weather-gan/11h_51m_24s/999673af-c60f-11ec-90cb-40f2e9c534b2\n",
      "################ configuration ################\n",
      "-------------------- paths --------------------\n",
      "tensorbard: /p/tmp/hess/scratch/weather-gan/tensorboard/\n",
      "checkpoint: /p/tmp/hess/scratch/weather-gan/checkpoints/\n",
      "config: /p/tmp/hess/scratch/weather-gan/config-files/\n",
      "results: /p/tmp/hess/scratch/weather-gan/results/\n",
      "input: /p/tmp/hess/scratch/weather-gan/datasets/monthly_gfdl_historical.nc\n",
      "target: /p/tmp/hess/scratch/weather-gan/datasets/daily_gfdl_historical.nc\n",
      "-------------------- splits  -------------------\n",
      "training:   1950 - 2000\n",
      "validation: 2001 - 2001\n",
      "test:       2001 - 2001\n",
      "------------------ hyperparams -----------------\n",
      "num workers: 8\n",
      "epochs: 1\n",
      "train batch size: 32\n",
      "test batch size: 64\n",
      "lr: 0.0002\n",
      "latent dim: 8\n",
      "generator channels: 64\n",
      "generator num. residual blocks: 5\n",
      "generator num. downsampling: 2\n",
      "apply dropout: False\n",
      "discriminator channels: 32\n",
      "discriminator num layers: 3\n",
      "num discriminator steps: 5\n"
     ]
    }
   ],
   "source": [
    "training(Config(), enable_profiler=True)"
   ]
  },
  {
   "cell_type": "markdown",
   "id": "c9ddc55e-0b5a-4966-8c70-5014960f958a",
   "metadata": {
    "tags": []
   },
   "source": [
    "# Debug"
   ]
  },
  {
   "cell_type": "code",
   "execution_count": null,
   "id": "f05ea696-d409-4f64-b5bc-65cb4bc5190f",
   "metadata": {},
   "outputs": [],
   "source": []
  }
 ],
 "metadata": {
  "kernelspec": {
   "display_name": "Python 3",
   "language": "python",
   "name": "python3"
  },
  "language_info": {
   "codemirror_mode": {
    "name": "ipython",
    "version": 3
   },
   "file_extension": ".py",
   "mimetype": "text/x-python",
   "name": "python",
   "nbconvert_exporter": "python",
   "pygments_lexer": "ipython3",
   "version": "3.9.0"
  }
 },
 "nbformat": 4,
 "nbformat_minor": 5
}
