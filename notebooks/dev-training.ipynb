{
 "cells": [
  {
   "cell_type": "code",
   "execution_count": 1,
   "id": "141e4eea-ea98-45c9-a996-0c725f7acbbf",
   "metadata": {},
   "outputs": [
    {
     "name": "stdout",
     "output_type": "stream",
     "text": [
      "/home/ftei-dsw/projects/weather-gan\n"
     ]
    }
   ],
   "source": [
    "%load_ext autoreload\n",
    "%autoreload 2\n",
    "%cd /home/ftei-dsw/projects/weather-gan"
   ]
  },
  {
   "cell_type": "code",
   "execution_count": 12,
   "id": "263437ee-55c2-4642-b64d-863053ca21fc",
   "metadata": {},
   "outputs": [],
   "source": [
    "from src.model import Generator, Discriminator\n",
    "from src.trainer import WeatherGenerator\n",
    "from src.data import DataModule\n",
    "from pytorch_lightning.trainer import Trainer\n",
    "from pytorch_lightning.loggers import TensorBoardLogger\n",
    "from src.utils import get_version\n",
    "from src.configuration import Config\n",
    "\n",
    "import torch"
   ]
  },
  {
   "cell_type": "markdown",
   "id": "199f7216-0b2e-46db-b97c-02bd886dad32",
   "metadata": {},
   "source": [
    "# start training"
   ]
  },
  {
   "cell_type": "code",
   "execution_count": 28,
   "id": "422c68b8-122a-42f4-8ed7-a61b2768eb35",
   "metadata": {},
   "outputs": [],
   "source": [
    "Config()"
   ]
  },
  {
   "cell_type": "code",
   "execution_count": 29,
   "id": "6fe56a45-e0a6-4dda-84b2-755cb23c3859",
   "metadata": {},
   "outputs": [
    {
     "name": "stderr",
     "output_type": "stream",
     "text": [
      "GPU available: True, used: True\n",
      "TPU available: False, using: 0 TPU cores\n",
      "IPU available: False, using: 0 IPUs\n",
      "LOCAL_RANK: 0 - CUDA_VISIBLE_DEVICES: [0]\n",
      "\n",
      "  | Name          | Type          | Params\n",
      "------------------------------------------------\n",
      "0 | generator     | Generator     | 6.7 M \n",
      "1 | discriminator | Discriminator | 693 K \n",
      "------------------------------------------------\n",
      "7.4 M     Trainable params\n",
      "0         Non-trainable params\n",
      "7.4 M     Total params\n",
      "29.480    Total estimated model params size (MB)\n"
     ]
    },
    {
     "data": {
      "application/vnd.jupyter.widget-view+json": {
       "model_id": "4716d8d75f664d0283046add924c810b",
       "version_major": 2,
       "version_minor": 0
      },
      "text/plain": [
       "Training: 0it [00:00, ?it/s]"
      ]
     },
     "metadata": {},
     "output_type": "display_data"
    }
   ],
   "source": [
    "def training(config):\n",
    "\n",
    "    tb_logger = TensorBoardLogger(config.tensorboard_path,\n",
    "                                  name=config.model_name,\n",
    "                                  default_hp_metric=False,\n",
    "                                  version = get_version())\n",
    "    \n",
    "    model = WeatherGeneConfigor(config)\n",
    "                             \n",
    "    data = DataModule(config)\n",
    "    data.setup('fit')\n",
    "    \n",
    "    trainer = Trainer(gpus=1,\n",
    "                     logger=tb_logger)\n",
    "    \n",
    "    trainer.fit(model, data)\n",
    "\n",
    "training(Config())"
   ]
  }
 ],
 "metadata": {
  "kernelspec": {
   "display_name": "Python 3 (ipykernel)",
   "language": "python",
   "name": "python3"
  },
  "language_info": {
   "codemirror_mode": {
    "name": "ipython",
    "version": 3
   },
   "file_extension": ".py",
   "mimetype": "text/x-python",
   "name": "python",
   "nbconvert_exporter": "python",
   "pygments_lexer": "ipython3",
   "version": "3.9.10"
  }
 },
 "nbformat": 4,
 "nbformat_minor": 5
}
